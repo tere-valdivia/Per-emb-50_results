{
  "cells": [
    {
      "cell_type": "markdown",
      "source": [
        "# Estimation of dust column density\n",
        "\n",
        "This estimation will help us answer why we do not see the streamer in dust emission"
      ],
      "metadata": {
        "nteract": {
          "transient": {
            "deleting": false
          }
        }
      }
    },
    {
      "cell_type": "code",
      "source": [
        "import numpy as np\n",
        "import astropy.units as u\n",
        "from astropy.modeling.models import BlackBody\n",
        "from astropy.constants import m_p"
      ],
      "outputs": [],
      "execution_count": 1,
      "metadata": {
        "collapsed": true,
        "jupyter": {
          "source_hidden": false,
          "outputs_hidden": false
        },
        "nteract": {
          "transient": {
            "deleting": false
          }
        },
        "execution": {
          "iopub.status.busy": "2022-01-20T08:56:50.077Z",
          "iopub.execute_input": "2022-01-20T08:56:50.080Z",
          "iopub.status.idle": "2022-01-20T08:56:50.936Z",
          "shell.execute_reply": "2022-01-20T08:56:50.931Z"
        }
      }
    },
    {
      "cell_type": "code",
      "source": [
        "N_H2 = 2.016e22 * u.cm**(-2)\n",
        "alpha = 100.\n",
        "kappa = 0.89 *u.cm**2/u.g\n",
        "Td = 15 *u.K\n",
        "mH = m_p"
      ],
      "outputs": [],
      "execution_count": 2,
      "metadata": {
        "collapsed": true,
        "jupyter": {
          "source_hidden": false,
          "outputs_hidden": false
        },
        "nteract": {
          "transient": {
            "deleting": false
          }
        },
        "execution": {
          "iopub.status.busy": "2022-01-20T08:56:50.941Z",
          "iopub.execute_input": "2022-01-20T08:56:50.946Z",
          "iopub.status.idle": "2022-01-20T08:56:50.955Z",
          "shell.execute_reply": "2022-01-20T08:52:16.888Z"
        }
      }
    },
    {
      "cell_type": "code",
      "source": [
        "bb = BlackBody(temperature=Td, scale=1.)\n",
        "wav = 0.0013 * u.m\n",
        "B_nu = bb(wav)\n",
        "beam_omega = (1.133 * 1.24 * u.arcsec * 0.7 * u.arcsec).to(u.sr)"
      ],
      "outputs": [],
      "execution_count": 3,
      "metadata": {
        "collapsed": true,
        "jupyter": {
          "source_hidden": false,
          "outputs_hidden": false
        },
        "nteract": {
          "transient": {
            "deleting": false
          }
        },
        "execution": {
          "iopub.status.busy": "2022-01-20T08:56:50.963Z",
          "iopub.execute_input": "2022-01-20T08:56:50.966Z",
          "iopub.status.idle": "2022-01-20T08:56:50.971Z",
          "shell.execute_reply": "2022-01-20T08:56:42.484Z"
        }
      }
    },
    {
      "cell_type": "code",
      "source": [
        "I_dust = 2.7 * mH / alpha * (kappa * B_nu  * N_H2)"
      ],
      "outputs": [],
      "execution_count": 15,
      "metadata": {
        "collapsed": true,
        "jupyter": {
          "source_hidden": false,
          "outputs_hidden": false
        },
        "nteract": {
          "transient": {
            "deleting": false
          }
        },
        "execution": {
          "iopub.status.busy": "2022-01-20T09:11:41.543Z",
          "iopub.execute_input": "2022-01-20T09:11:41.547Z",
          "iopub.status.idle": "2022-01-20T09:11:41.553Z",
          "shell.execute_reply": "2022-01-20T09:11:41.557Z"
        }
      }
    },
    {
      "cell_type": "code",
      "source": [
        "print(I_dust.to(u.Jy/u.sr).to(u.Jy/u.beam, equivalencies=u.beam_angular_area(beam_omega)))"
      ],
      "outputs": [
        {
          "output_type": "stream",
          "name": "stdout",
          "text": [
            "0.0003103370848166765 Jy / beam\n"
          ]
        }
      ],
      "execution_count": 20,
      "metadata": {
        "collapsed": true,
        "jupyter": {
          "source_hidden": false,
          "outputs_hidden": false
        },
        "nteract": {
          "transient": {
            "deleting": false
          }
        },
        "execution": {
          "iopub.status.busy": "2022-01-20T09:12:47.027Z",
          "iopub.execute_input": "2022-01-20T09:12:47.033Z",
          "iopub.status.idle": "2022-01-20T09:12:47.041Z",
          "shell.execute_reply": "2022-01-20T09:12:47.046Z"
        }
      }
    }
  ],
  "metadata": {
    "kernel_info": {
      "name": "python3"
    },
    "language_info": {
      "name": "python",
      "version": "3.8.5",
      "mimetype": "text/x-python",
      "codemirror_mode": {
        "name": "ipython",
        "version": 3
      },
      "pygments_lexer": "ipython3",
      "nbconvert_exporter": "python",
      "file_extension": ".py"
    },
    "kernelspec": {
      "argv": [
        "/Users/mvaldivi/anaconda3/bin/python",
        "-m",
        "ipykernel_launcher",
        "-f",
        "{connection_file}"
      ],
      "display_name": "Python 3",
      "language": "python",
      "name": "python3"
    },
    "nteract": {
      "version": "0.28.0"
    }
  },
  "nbformat": 4,
  "nbformat_minor": 0
}