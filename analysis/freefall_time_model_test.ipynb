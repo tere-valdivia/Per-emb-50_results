{
  "cells": [
    {
      "cell_type": "markdown",
      "source": [
        "# Test: free fall time in streamline model in comparison with the theoretical streamline model"
      ],
      "metadata": {
        "nteract": {
          "transient": {
            "deleting": false
          }
        }
      }
    },
    {
      "cell_type": "code",
      "source": [
        "%matplotlib inline\n",
        "import sys\n",
        "sys.path.append('../')\n",
        "import numpy as np\n",
        "import astropy.units as u\n",
        "import velocity_tools.stream_lines as SL\n",
        "import matplotlib.pyplot as plt\n",
        "from astropy.wcs import WCS\n",
        "from astropy.io import fits\n",
        "from astropy.constants import G\n",
        "from NOEMAsetup import *\n",
        "from astropy.coordinates import SkyCoord, FK5\n"
      ],
      "outputs": [],
      "execution_count": 2,
      "metadata": {
        "collapsed": true,
        "jupyter": {
          "source_hidden": false,
          "outputs_hidden": false
        },
        "nteract": {
          "transient": {
            "deleting": false
          }
        },
        "execution": {
          "iopub.status.busy": "2021-06-16T15:53:46.151Z",
          "iopub.execute_input": "2021-06-16T15:53:46.162Z",
          "iopub.status.idle": "2021-06-16T15:53:47.292Z",
          "shell.execute_reply": "2021-06-16T15:53:47.380Z"
        }
      }
    },
    {
      "cell_type": "code",
      "source": [
        "# Just if you are curious, this is how different the timescales look theoretically when considering continuous infalling motion\n",
        "r0 = 1000 * u.au\n",
        "rfin = np.arange(0, r0.value+10, 10) * u.au\n",
        "print(rfin)\n",
        "t_ff_acc = t_freefall(r0, 1*u.Msun) - t_freefall_acc(rfin, r0)\n",
        "print(t_freefall_acc(0., r0))\n",
        "print(t_freefall(r0, 1*u.Msun))\n",
        "plt.plot(rfin, t_ff_acc, 'k',label=r'Considering previous trajectory ($v_r\\neq0$)')\n",
        "plt.plot(rfin, t_freefall(rfin, 1*u.Msun),'r', label=r'$v_r=0$ in each point')\n",
        "plt.xlabel('Distance (au)')\n",
        "plt.ylabel('Free-fall time (yr)')\n",
        "plt.legend(frameon=False)\n"
      ],
      "outputs": [
        {
          "output_type": "stream",
          "name": "stdout",
          "text": [
            "[   0.   10.   20.   30.   40.   50.   60.   70.   80.   90.  100.  110.\n",
            "  120.  130.  140.  150.  160.  170.  180.  190.  200.  210.  220.  230.\n",
            "  240.  250.  260.  270.  280.  290.  300.  310.  320.  330.  340.  350.\n",
            "  360.  370.  380.  390.  400.  410.  420.  430.  440.  450.  460.  470.\n",
            "  480.  490.  500.  510.  520.  530.  540.  550.  560.  570.  580.  590.\n",
            "  600.  610.  620.  630.  640.  650.  660.  670.  680.  690.  700.  710.\n",
            "  720.  730.  740.  750.  760.  770.  780.  790.  800.  810.  820.  830.\n",
            "  840.  850.  860.  870.  880.  890.  900.  910.  920.  930.  940.  950.\n",
            "  960.  970.  980.  990. 1000.] AU\n"
          ]
        },
        {
          "output_type": "error",
          "ename": "TypeError",
          "evalue": "t_freefall_acc() missing 1 required positional argument: 'r0'",
          "traceback": [
            "\u001b[0;31m---------------------------------------------------------------------------\u001b[0m",
            "\u001b[0;31mTypeError\u001b[0m                                 Traceback (most recent call last)",
            "\u001b[0;32m<ipython-input-2-5d612cfbce65>\u001b[0m in \u001b[0;36m<module>\u001b[0;34m\u001b[0m\n\u001b[1;32m      3\u001b[0m \u001b[0mrfin\u001b[0m \u001b[0;34m=\u001b[0m \u001b[0mnp\u001b[0m\u001b[0;34m.\u001b[0m\u001b[0marange\u001b[0m\u001b[0;34m(\u001b[0m\u001b[0;36m0\u001b[0m\u001b[0;34m,\u001b[0m \u001b[0mr0\u001b[0m\u001b[0;34m.\u001b[0m\u001b[0mvalue\u001b[0m\u001b[0;34m+\u001b[0m\u001b[0;36m10\u001b[0m\u001b[0;34m,\u001b[0m \u001b[0;36m10\u001b[0m\u001b[0;34m)\u001b[0m \u001b[0;34m*\u001b[0m \u001b[0mu\u001b[0m\u001b[0;34m.\u001b[0m\u001b[0mau\u001b[0m\u001b[0;34m\u001b[0m\u001b[0;34m\u001b[0m\u001b[0m\n\u001b[1;32m      4\u001b[0m \u001b[0mprint\u001b[0m\u001b[0;34m(\u001b[0m\u001b[0mrfin\u001b[0m\u001b[0;34m)\u001b[0m\u001b[0;34m\u001b[0m\u001b[0;34m\u001b[0m\u001b[0m\n\u001b[0;32m----> 5\u001b[0;31m \u001b[0mt_ff_acc\u001b[0m \u001b[0;34m=\u001b[0m \u001b[0mt_freefall\u001b[0m\u001b[0;34m(\u001b[0m\u001b[0mr0\u001b[0m\u001b[0;34m,\u001b[0m \u001b[0;36m1\u001b[0m\u001b[0;34m*\u001b[0m\u001b[0mu\u001b[0m\u001b[0;34m.\u001b[0m\u001b[0mMsun\u001b[0m\u001b[0;34m)\u001b[0m \u001b[0;34m-\u001b[0m \u001b[0mt_freefall_acc\u001b[0m\u001b[0;34m(\u001b[0m\u001b[0mrfin\u001b[0m\u001b[0;34m,\u001b[0m \u001b[0mr0\u001b[0m\u001b[0;34m)\u001b[0m\u001b[0;34m\u001b[0m\u001b[0;34m\u001b[0m\u001b[0m\n\u001b[0m\u001b[1;32m      6\u001b[0m \u001b[0mprint\u001b[0m\u001b[0;34m(\u001b[0m\u001b[0mt_freefall_acc\u001b[0m\u001b[0;34m(\u001b[0m\u001b[0;36m0.\u001b[0m\u001b[0;34m,\u001b[0m \u001b[0mr0\u001b[0m\u001b[0;34m)\u001b[0m\u001b[0;34m)\u001b[0m\u001b[0;34m\u001b[0m\u001b[0;34m\u001b[0m\u001b[0m\n\u001b[1;32m      7\u001b[0m \u001b[0mprint\u001b[0m\u001b[0;34m(\u001b[0m\u001b[0mt_freefall\u001b[0m\u001b[0;34m(\u001b[0m\u001b[0mr0\u001b[0m\u001b[0;34m,\u001b[0m \u001b[0;36m1\u001b[0m\u001b[0;34m*\u001b[0m\u001b[0mu\u001b[0m\u001b[0;34m.\u001b[0m\u001b[0mMsun\u001b[0m\u001b[0;34m)\u001b[0m\u001b[0;34m)\u001b[0m\u001b[0;34m\u001b[0m\u001b[0;34m\u001b[0m\u001b[0m\n",
            "\u001b[0;31mTypeError\u001b[0m: t_freefall_acc() missing 1 required positional argument: 'r0'"
          ]
        }
      ],
      "execution_count": 2,
      "metadata": {
        "collapsed": true,
        "jupyter": {
          "source_hidden": false,
          "outputs_hidden": false
        },
        "nteract": {
          "transient": {
            "deleting": false
          }
        },
        "execution": {
          "iopub.status.busy": "2021-06-16T08:29:16.865Z",
          "iopub.execute_input": "2021-06-16T08:29:16.874Z",
          "iopub.status.idle": "2021-06-15T16:05:25.529Z",
          "shell.execute_reply": "2021-06-15T16:05:25.547Z"
        }
      }
    },
    {
      "cell_type": "markdown",
      "source": [
        "First, we run a streamline model with little rotation for testing"
      ],
      "metadata": {
        "nteract": {
          "transient": {
            "deleting": false
          }
        }
      }
    },
    {
      "cell_type": "code",
      "source": [
        "# model parameters\n",
        "M_s = 1.71*u.Msun # was 2.9\n",
        "M_env = 0.39*u.Msun # upper limit\n",
        "M_disk = 0.58*u.Msun\n",
        "Mstar = (M_s+M_env+M_disk)\n",
        "# Mstar = 1 * u.Msun\n",
        "\n",
        "# Disk inclination system\n",
        "inc = 0. * u.deg\n",
        "PA_ang = 0. *u.deg\n",
        "\n",
        "theta0 = 61.5 * u.deg  # rotate clockwise\n",
        "phi0 = 28. * u.deg  # rotate the plane\n",
        "v_r0 = 1.25 * u.km/u.s\n",
        "r0 = 3300*u.au\n",
        "\n",
        "omega0 = 4.53e-13 / u.s\n",
        "\n",
        "# what happens if we incline it? seems that nothing, luckily\n",
        "# inc = 30. * u.deg\n",
        "# PA_ang = 10. *u.deg\n",
        "\n",
        "# theta0 = 70 * u.deg  # rotate clockwise\n",
        "# phi0 = 10. * u.deg  # rotate the plane\n",
        "# v_r0 = 0. * u.km/u.s\n",
        "# r0 = 1000 *u.au\n",
        "\n",
        "# omega0 = 1e-14 / u.s"
      ],
      "outputs": [],
      "execution_count": 3,
      "metadata": {
        "collapsed": true,
        "jupyter": {
          "source_hidden": false,
          "outputs_hidden": false
        },
        "nteract": {
          "transient": {
            "deleting": false
          }
        },
        "execution": {
          "iopub.status.busy": "2021-06-16T15:53:48.193Z",
          "iopub.execute_input": "2021-06-16T15:53:48.203Z",
          "iopub.status.idle": "2021-06-16T15:53:48.223Z",
          "shell.execute_reply": "2021-06-16T15:53:48.232Z"
        }
      }
    },
    {
      "cell_type": "markdown",
      "source": [
        "Then, we run our model.\n",
        "\n",
        "From the model we need:\n",
        "- the distance from the protostar to all points along the streamer \n",
        "- the magnitude of the velocity at each point\n",
        "- The size of each segment along the streamer\n",
        "- The time required to travel each segment\n",
        "- The time to get from the protostar to that point along the streamer (cumulative sum from each segment)\n",
        "- The theoretical free fall timescale in each point"
      ],
      "metadata": {
        "nteract": {
          "transient": {
            "deleting": false
          }
        }
      }
    },
    {
      "cell_type": "code",
      "source": [
        "(x1, y1, z1), (vx1, vy1, vz1) = SL.xyz_stream(mass=Mstar, r0=r0, theta0=theta0, phi0=phi0, omega=omega0, v_r0=v_r0, inc=inc, pa=PA_ang, deltar=10*u.au)\n",
        "\n",
        "dist_streamer = np.sqrt(x1**2 + y1**2 + z1**2) # distance from protostar to point\n",
        "dist_2d_streamer = np.sqrt(x1**2 + y1**2) # cilyndrical distance from protostar to point\n",
        "\n",
        "# from the velocity we need to erase the first, and for the segments we need to erase the last\n",
        "vel_streamer = np.sqrt(vx1**2 + vy1**2 + vz1**2) # total velocity at point x,y,z\n",
        "\n",
        "# we calculate the size of each segment and the time to travel the streamer\n",
        "dx1 = np.roll(x1, 1) - x1\n",
        "dy1 = np.roll(y1, 1) - y1\n",
        "dz1 = np.roll(z1, 1) - z1\n",
        "# we need to unroll so that the segments match their velocities\n",
        "deltas = np.sqrt(dx1**2 + dy1**2 + dz1**2)[2:]\n",
        "vel_mean = 0.5*(np.roll(vel_streamer, 1) + vel_streamer)[2:]\n",
        "dist_mean = 0.5*(np.roll(dist_streamer, 1) + dist_streamer)[2:]\n",
        "dist_2d_mean = 0.5*(np.roll(dist_2d_streamer, 1) + dist_2d_streamer)[2:]\n",
        "# The last value does not make sense because it is from the last to the first one of the list. \n",
        "deltat = (deltas / vel_mean).to(u.yr)\n",
        "# usually we need to sacrifice the first two points: the first because of the roll and the second because of the initial v=0\n",
        "\n",
        "# we reverse two times to sum from protostar to start point and return the array to its original order\n",
        "# t0 = t_freefall(np.amin(dist_streamer.value)*u.au, Mstar) # There must be a time to fall from rmin to the protostar\n",
        "time_integral_path = np.flip(np.cumsum(np.flip(deltat)))# + t0"
      ],
      "outputs": [
        {
          "output_type": "stream",
          "name": "stdout",
          "text": [
            "rc=229.0772556557776 AU\n",
            "10.0 AU\n",
            "tolerance  3.01190379676e-08\n"
          ]
        }
      ],
      "execution_count": 4,
      "metadata": {
        "collapsed": true,
        "jupyter": {
          "source_hidden": false,
          "outputs_hidden": false
        },
        "nteract": {
          "transient": {
            "deleting": false
          }
        },
        "execution": {
          "iopub.status.busy": "2021-06-16T15:53:51.968Z",
          "iopub.execute_input": "2021-06-16T15:53:52.126Z",
          "iopub.status.idle": "2021-06-16T15:53:55.700Z",
          "shell.execute_reply": "2021-06-16T15:53:55.709Z"
        }
      }
    },
    {
      "cell_type": "code",
      "source": [
        "time_theory = t_freefall_acc(0 *u.au, dist_mean, r0, mass=Mstar)\n",
        "print(time_theory)"
      ],
      "outputs": [
        {
          "output_type": "stream",
          "name": "stdout",
          "text": [
            "[4.72071583e+03 4.46956585e+03 4.26647362e+03 4.09177263e+03\n",
            " 3.93644323e+03 3.79545100e+03 3.66564443e+03 3.54489464e+03\n",
            " 3.43168301e+03 3.32488087e+03 3.22362204e+03 3.12722441e+03\n",
            " 3.03513938e+03 2.94691782e+03 2.86218650e+03 2.78063121e+03\n",
            " 2.70198449e+03 2.62601637e+03 2.55252745e+03 2.48134348e+03\n",
            " 2.41231112e+03 2.34529460e+03 2.28017304e+03 2.21683826e+03\n",
            " 2.15519300e+03 2.09514943e+03 2.03662796e+03 1.97955617e+03\n",
            " 1.92386797e+03 1.86950287e+03 1.81640533e+03 1.76452422e+03\n",
            " 1.71381239e+03 1.66422622e+03 1.61572529e+03 1.56827211e+03\n",
            " 1.52183177e+03 1.47637177e+03 1.43186178e+03 1.38827348e+03\n",
            " 1.34558035e+03 1.30375759e+03 1.26278191e+03 1.22263147e+03\n",
            " 1.18328577e+03 1.14472552e+03 1.10693260e+03 1.06988993e+03\n",
            " 1.03358147e+03 9.97992074e+02 9.63107515e+02 9.28914376e+02\n",
            " 8.95400031e+02 8.62552590e+02 8.30360872e+02 7.98814362e+02\n",
            " 7.67903184e+02 7.37618073e+02 7.07950350e+02 6.78891902e+02\n",
            " 6.50435159e+02 6.22573079e+02 5.95299137e+02 5.68607307e+02\n",
            " 5.42492057e+02 5.16948342e+02 4.91971596e+02 4.67557731e+02\n",
            " 4.43703138e+02 4.20404689e+02 3.97659746e+02 3.75466162e+02\n",
            " 3.53822302e+02 3.32727053e+02 3.12179851e+02 2.92180697e+02\n",
            " 2.72730198e+02 2.53829601e+02 2.35480837e+02 2.17686583e+02\n",
            " 2.00450322e+02 1.83776436e+02 1.67670295e+02 1.52138392e+02\n",
            " 1.37188490e+02 1.22829814e+02 1.09073300e+02 9.59319031e+01\n",
            " 8.34210124e+01 7.15589952e+01 6.03679488e+01 4.98747579e+01\n",
            " 4.01126425e+01 3.11235308e+01 2.29619220e+01 1.57017130e+01\n",
            " 9.44976820e+00 4.37849335e+00] yr\n"
          ]
        }
      ],
      "execution_count": 4,
      "metadata": {
        "collapsed": true,
        "jupyter": {
          "source_hidden": false,
          "outputs_hidden": false
        },
        "nteract": {
          "transient": {
            "deleting": false
          }
        },
        "execution": {
          "iopub.status.busy": "2021-06-16T09:04:53.141Z",
          "iopub.execute_input": "2021-06-16T09:04:53.149Z",
          "iopub.status.idle": "2021-06-16T09:04:53.170Z",
          "shell.execute_reply": "2021-06-16T09:04:53.180Z"
        }
      }
    },
    {
      "cell_type": "markdown",
      "source": [
        "We plot the times together. For a model with no rotation and initial radial velocity of zero, there should be no difference "
      ],
      "metadata": {
        "nteract": {
          "transient": {
            "deleting": false
          }
        }
      }
    },
    {
      "cell_type": "code",
      "source": [
        "time_theory = t_freefall_acc(0 *u.au, dist_mean, r0, mass=Mstar)\n",
        "fig = plt.figure(figsize=(4,4))\n",
        "ax = fig.add_subplot(111)\n",
        "ax.plot(dist_mean, time_integral_path/1e3, marker='*', color='#fe9929', label='From streamline model')\n",
        "ax.plot(dist_mean, time_theory.value/1e3, color='k', linestyle='dashed', label='From formula')\n",
        "ax.set_xlabel('Distance along streamer (au)')\n",
        "ax.set_ylabel('Free fall timescale (kyr)')\n",
        "ax.legend(frameon=False)\n",
        "ax.annotate(r'$M='+str(Mstar.value)+r'$ M$_{\\odot}$', (0.1, 0.3),xycoords='axes fraction', size=10)\n",
        "ax.annotate(r'$\\Omega='+str(omega0.value)+r'$ s$^{-1}$', (0.1, 0.35),xycoords='axes fraction', size=10)\n",
        "ax.annotate(r'$\\theta_0='+str(theta0.value)+r'$ deg', (0.1, 0.4),xycoords='axes fraction', size=10)\n",
        "ax.annotate(r'$\\phi_0='+str(theta0.value)+r'$ deg', (0.1, 0.45),xycoords='axes fraction', size=10)\n",
        "ax.annotate(r'$v_{r0}='+str(v_r0.value)+r'$ km s$^{-1}$', (0.1, 0.5),xycoords='axes fraction', size=10)\n",
        "# fig.savefig('test_t_ff_streamline_vs_theory.pdf', dpi=300, bbox_inches='tight')\n",
        "# ax.set_xlim([0,50])\n",
        "# ax.set_ylim([0,0.5])\n",
        "ax.set_yscale('log')"
      ],
      "outputs": [
        {
          "output_type": "display_data",
          "data": {
            "text/plain": "<Figure size 288x288 with 1 Axes>",
            "image/png": "[encoded data removed]"
          },
          "metadata": {
            "needs_background": "light"
          }
        }
      ],
      "execution_count": 6,
      "metadata": {
        "collapsed": true,
        "jupyter": {
          "source_hidden": false,
          "outputs_hidden": false
        },
        "nteract": {
          "transient": {
            "deleting": false
          }
        },
        "execution": {
          "iopub.status.busy": "2021-06-16T15:55:25.719Z",
          "iopub.execute_input": "2021-06-16T15:55:25.733Z",
          "iopub.status.idle": "2021-06-16T15:55:27.802Z",
          "shell.execute_reply": "2021-06-16T15:55:27.818Z"
        }
      }
    },
    {
      "cell_type": "code",
      "source": [
        "# This is to analyze the velocity components we have\n",
        "vel_rota = (omega0 * r0**2 / dist_2d_streamer).to(u.km/u.s)\n",
        "vel_rad = np.sqrt(vel_streamer**2 - vel_rota**2)\n",
        "\n",
        "plt.plot(dist_streamer, vel_streamer, label='velocity streamer')\n",
        "plt.plot(dist_streamer, vel_rota, label='vel. from j')\n",
        "plt.plot(dist_streamer, vel_rad, label='radial vel')\n",
        "plt.legend()\n",
        "# plt.ylim([0, 1])"
      ],
      "outputs": [
        {
          "output_type": "execute_result",
          "execution_count": 12,
          "data": {
            "text/plain": "<matplotlib.legend.Legend at 0x7fc990e05220>"
          },
          "metadata": {}
        },
        {
          "output_type": "display_data",
          "data": {
            "text/plain": "<Figure size 432x288 with 1 Axes>",
            "image/png": "[encoded data removed]"
          },
          "metadata": {
            "needs_background": "light"
          }
        }
      ],
      "execution_count": 12,
      "metadata": {
        "collapsed": true,
        "jupyter": {
          "source_hidden": false,
          "outputs_hidden": false
        },
        "nteract": {
          "transient": {
            "deleting": false
          }
        },
        "execution": {
          "iopub.status.busy": "2021-06-16T06:49:00.524Z",
          "iopub.execute_input": "2021-06-16T06:49:00.534Z",
          "iopub.status.idle": "2021-06-16T06:49:00.631Z",
          "shell.execute_reply": "2021-06-16T06:49:00.644Z"
        }
      }
    },
    {
      "cell_type": "code",
      "source": [
        "plt.plot(vx1)\n",
        "plt.plot(vy1)\n",
        "plt.plot(vz1)"
      ],
      "outputs": [
        {
          "output_type": "execute_result",
          "execution_count": 32,
          "data": {
            "text/plain": "[<matplotlib.lines.Line2D at 0x7f91d24372b0>]"
          },
          "metadata": {}
        },
        {
          "output_type": "display_data",
          "data": {
            "text/plain": "<Figure size 432x288 with 1 Axes>",
            "image/png": "[encoded data removed]"
          },
          "metadata": {
            "needs_background": "light"
          }
        }
      ],
      "execution_count": 32,
      "metadata": {
        "collapsed": true,
        "jupyter": {
          "source_hidden": false,
          "outputs_hidden": false
        },
        "nteract": {
          "transient": {
            "deleting": false
          }
        },
        "execution": {
          "iopub.status.busy": "2021-06-15T15:39:03.094Z",
          "iopub.execute_input": "2021-06-15T15:39:03.107Z",
          "iopub.status.idle": "2021-06-15T15:39:03.171Z",
          "shell.execute_reply": "2021-06-15T15:39:03.188Z"
        }
      }
    },
    {
      "cell_type": "markdown",
      "source": [
        "What is below are some tests we did when it was not working"
      ],
      "metadata": {
        "nteract": {
          "transient": {
            "deleting": false
          }
        }
      }
    },
    {
      "cell_type": "code",
      "source": [
        "fig = plt.figure(figsize=(4,4))\n",
        "ax = fig.add_subplot(111)\n",
        "ax.plot(r_test.value, time_theory.value, color='k', linestyle='dashed')\n",
        "\n",
        "for i in range(len(omega0list)):\n",
        "    ax.plot(dist_streamer_list[i].value[1:], time_integral_path_list[i].value[1:], label=r'$\\Omega_0='+str(omega0list[i].value)+r'$ s-1')\n",
        "ax.legend(frameon=False)\n",
        "ax.set_xlabel('3D distance')\n",
        "ax.set_ylabel('Free fall time')\n",
        "print(deltat_list[1])\n",
        "# ax.set_ylim([0,10000])"
      ],
      "outputs": [
        {
          "output_type": "error",
          "ename": "NameError",
          "evalue": "name 'r_test' is not defined",
          "traceback": [
            "\u001b[0;31m---------------------------------------------------------------------------\u001b[0m",
            "\u001b[0;31mNameError\u001b[0m                                 Traceback (most recent call last)",
            "\u001b[0;32m<ipython-input-34-5713d85988a3>\u001b[0m in \u001b[0;36m<module>\u001b[0;34m\u001b[0m\n\u001b[1;32m      1\u001b[0m \u001b[0mfig\u001b[0m \u001b[0;34m=\u001b[0m \u001b[0mplt\u001b[0m\u001b[0;34m.\u001b[0m\u001b[0mfigure\u001b[0m\u001b[0;34m(\u001b[0m\u001b[0mfigsize\u001b[0m\u001b[0;34m=\u001b[0m\u001b[0;34m(\u001b[0m\u001b[0;36m4\u001b[0m\u001b[0;34m,\u001b[0m\u001b[0;36m4\u001b[0m\u001b[0;34m)\u001b[0m\u001b[0;34m)\u001b[0m\u001b[0;34m\u001b[0m\u001b[0;34m\u001b[0m\u001b[0m\n\u001b[1;32m      2\u001b[0m \u001b[0max\u001b[0m \u001b[0;34m=\u001b[0m \u001b[0mfig\u001b[0m\u001b[0;34m.\u001b[0m\u001b[0madd_subplot\u001b[0m\u001b[0;34m(\u001b[0m\u001b[0;36m111\u001b[0m\u001b[0;34m)\u001b[0m\u001b[0;34m\u001b[0m\u001b[0;34m\u001b[0m\u001b[0m\n\u001b[0;32m----> 3\u001b[0;31m \u001b[0max\u001b[0m\u001b[0;34m.\u001b[0m\u001b[0mplot\u001b[0m\u001b[0;34m(\u001b[0m\u001b[0mr_test\u001b[0m\u001b[0;34m.\u001b[0m\u001b[0mvalue\u001b[0m\u001b[0;34m,\u001b[0m \u001b[0mtime_theory\u001b[0m\u001b[0;34m.\u001b[0m\u001b[0mvalue\u001b[0m\u001b[0;34m,\u001b[0m \u001b[0mcolor\u001b[0m\u001b[0;34m=\u001b[0m\u001b[0;34m'k'\u001b[0m\u001b[0;34m,\u001b[0m \u001b[0mlinestyle\u001b[0m\u001b[0;34m=\u001b[0m\u001b[0;34m'dashed'\u001b[0m\u001b[0;34m)\u001b[0m\u001b[0;34m\u001b[0m\u001b[0;34m\u001b[0m\u001b[0m\n\u001b[0m\u001b[1;32m      4\u001b[0m \u001b[0;34m\u001b[0m\u001b[0m\n\u001b[1;32m      5\u001b[0m \u001b[0;32mfor\u001b[0m \u001b[0mi\u001b[0m \u001b[0;32min\u001b[0m \u001b[0mrange\u001b[0m\u001b[0;34m(\u001b[0m\u001b[0mlen\u001b[0m\u001b[0;34m(\u001b[0m\u001b[0momega0list\u001b[0m\u001b[0;34m)\u001b[0m\u001b[0;34m)\u001b[0m\u001b[0;34m:\u001b[0m\u001b[0;34m\u001b[0m\u001b[0;34m\u001b[0m\u001b[0m\n",
            "\u001b[0;31mNameError\u001b[0m: name 'r_test' is not defined"
          ]
        }
      ],
      "execution_count": 34,
      "metadata": {
        "collapsed": true,
        "jupyter": {
          "source_hidden": false,
          "outputs_hidden": false
        },
        "nteract": {
          "transient": {
            "deleting": false
          }
        },
        "execution": {
          "iopub.status.busy": "2021-06-15T15:56:29.480Z",
          "iopub.execute_input": "2021-06-15T15:56:29.490Z",
          "iopub.status.idle": "2021-06-14T13:09:16.304Z",
          "shell.execute_reply": "2021-06-14T13:09:16.319Z"
        }
      }
    },
    {
      "cell_type": "code",
      "source": [
        "plt.plot(dist_streamer_list[1][1:], vel_streamer_list[1][1:])\n"
      ],
      "outputs": [
        {
          "output_type": "execute_result",
          "execution_count": 41,
          "data": {
            "text/plain": "[<matplotlib.lines.Line2D at 0x7f8cd1709250>]"
          },
          "metadata": {}
        },
        {
          "output_type": "display_data",
          "data": {
            "text/plain": "<Figure size 432x288 with 1 Axes>",
            "image/png": "[encoded data removed]"
          },
          "metadata": {
            "needs_background": "light"
          }
        }
      ],
      "execution_count": 41,
      "metadata": {
        "collapsed": true,
        "jupyter": {
          "source_hidden": false,
          "outputs_hidden": false
        },
        "nteract": {
          "transient": {
            "deleting": false
          }
        },
        "execution": {
          "iopub.status.busy": "2021-06-14T12:57:49.849Z",
          "iopub.execute_input": "2021-06-14T12:57:49.859Z",
          "iopub.status.idle": "2021-06-14T12:57:49.936Z",
          "shell.execute_reply": "2021-06-14T12:57:49.951Z"
        }
      }
    },
    {
      "cell_type": "code",
      "source": [
        "print(dist_streamer_list)"
      ],
      "outputs": [
        {
          "output_type": "stream",
          "name": "stdout",
          "text": [
            "[<Quantity [999.5, 998.5, 997.5, 996.5, 995.5, 994.5, 993.5, 992.5, 991.5,\n",
            "           990.5, 989.5, 988.5, 987.5, 986.5, 985.5, 984.5, 983.5, 982.5,\n",
            "           981.5, 980.5, 979.5, 978.5, 977.5, 976.5, 975.5, 974.5, 973.5,\n",
            "           972.5, 971.5, 970.5, 969.5, 968.5, 967.5, 966.5, 965.5, 964.5,\n",
            "           963.5, 962.5, 961.5, 960.5, 959.5, 958.5, 957.5, 956.5, 955.5,\n",
            "           954.5, 953.5, 952.5, 951.5, 950.5, 949.5, 948.5, 947.5, 946.5,\n",
            "           945.5, 944.5, 943.5, 942.5, 941.5, 940.5, 939.5, 938.5, 937.5,\n",
            "           936.5, 935.5, 934.5, 933.5, 932.5, 931.5, 930.5, 929.5, 928.5,\n",
            "           927.5, 926.5, 925.5, 924.5, 923.5, 922.5, 921.5, 920.5, 919.5,\n",
            "           918.5, 917.5, 916.5, 915.5, 914.5, 913.5, 912.5, 911.5, 910.5,\n",
            "           909.5, 908.5, 907.5, 906.5, 905.5, 904.5, 903.5, 902.5, 901.5,\n",
            "           900.5, 899.5, 898.5, 897.5, 896.5, 895.5, 894.5, 893.5, 892.5,\n",
            "           891.5, 890.5, 889.5, 888.5, 887.5, 886.5, 885.5, 884.5, 883.5,\n",
            "           882.5, 881.5, 880.5, 879.5, 878.5, 877.5, 876.5, 875.5, 874.5,\n",
            "           873.5, 872.5, 871.5, 870.5, 869.5, 868.5, 867.5, 866.5, 865.5,\n",
            "           864.5, 863.5, 862.5, 861.5, 860.5, 859.5, 858.5, 857.5, 856.5,\n",
            "           855.5, 854.5, 853.5, 852.5, 851.5, 850.5, 849.5, 848.5, 847.5,\n",
            "           846.5, 845.5, 844.5, 843.5, 842.5, 841.5, 840.5, 839.5, 838.5,\n",
            "           837.5, 836.5, 835.5, 834.5, 833.5, 832.5, 831.5, 830.5, 829.5,\n",
            "           828.5, 827.5, 826.5, 825.5, 824.5, 823.5, 822.5, 821.5, 820.5,\n",
            "           819.5, 818.5, 817.5, 816.5, 815.5, 814.5, 813.5, 812.5, 811.5,\n",
            "           810.5, 809.5, 808.5, 807.5, 806.5, 805.5, 804.5, 803.5, 802.5,\n",
            "           801.5, 800.5, 799.5, 798.5, 797.5, 796.5, 795.5, 794.5, 793.5,\n",
            "           792.5, 791.5, 790.5, 789.5, 788.5, 787.5, 786.5, 785.5, 784.5,\n",
            "           783.5, 782.5, 781.5, 780.5, 779.5, 778.5, 777.5, 776.5, 775.5,\n",
            "           774.5, 773.5, 772.5, 771.5, 770.5, 769.5, 768.5, 767.5, 766.5,\n",
            "           765.5, 764.5, 763.5, 762.5, 761.5, 760.5, 759.5, 758.5, 757.5,\n",
            "           756.5, 755.5, 754.5, 753.5, 752.5, 751.5, 750.5, 749.5, 748.5,\n",
            "           747.5, 746.5, 745.5, 744.5, 743.5, 742.5, 741.5, 740.5, 739.5,\n",
            "           738.5, 737.5, 736.5, 735.5, 734.5, 733.5, 732.5, 731.5, 730.5,\n",
            "           729.5, 728.5, 727.5, 726.5, 725.5, 724.5, 723.5, 722.5, 721.5,\n",
            "           720.5, 719.5, 718.5, 717.5, 716.5, 715.5, 714.5, 713.5, 712.5,\n",
            "           711.5, 710.5, 709.5, 708.5, 707.5, 706.5, 705.5, 704.5, 703.5,\n",
            "           702.5, 701.5, 700.5, 699.5, 698.5, 697.5, 696.5, 695.5, 694.5,\n",
            "           693.5, 692.5, 691.5, 690.5, 689.5, 688.5, 687.5, 686.5, 685.5,\n",
            "           684.5, 683.5, 682.5, 681.5, 680.5, 679.5, 678.5, 677.5, 676.5,\n",
            "           675.5, 674.5, 673.5, 672.5, 671.5, 670.5, 669.5, 668.5, 667.5,\n",
            "           666.5, 665.5, 664.5, 663.5, 662.5, 661.5, 660.5, 659.5, 658.5,\n",
            "           657.5, 656.5, 655.5, 654.5, 653.5, 652.5, 651.5, 650.5, 649.5,\n",
            "           648.5, 647.5, 646.5, 645.5, 644.5, 643.5, 642.5, 641.5, 640.5,\n",
            "           639.5, 638.5, 637.5, 636.5, 635.5, 634.5, 633.5, 632.5, 631.5,\n",
            "           630.5, 629.5, 628.5, 627.5, 626.5, 625.5, 624.5, 623.5, 622.5,\n",
            "           621.5, 620.5, 619.5, 618.5, 617.5, 616.5, 615.5, 614.5, 613.5,\n",
            "           612.5, 611.5, 610.5, 609.5, 608.5, 607.5, 606.5, 605.5, 604.5,\n",
            "           603.5, 602.5, 601.5, 600.5, 599.5, 598.5, 597.5, 596.5, 595.5,\n",
            "           594.5, 593.5, 592.5, 591.5, 590.5, 589.5, 588.5, 587.5, 586.5,\n",
            "           585.5, 584.5, 583.5, 582.5, 581.5, 580.5, 579.5, 578.5, 577.5,\n",
            "           576.5, 575.5, 574.5, 573.5, 572.5, 571.5, 570.5, 569.5, 568.5,\n",
            "           567.5, 566.5, 565.5, 564.5, 563.5, 562.5, 561.5, 560.5, 559.5,\n",
            "           558.5, 557.5, 556.5, 555.5, 554.5, 553.5, 552.5, 551.5, 550.5,\n",
            "           549.5, 548.5, 547.5, 546.5, 545.5, 544.5, 543.5, 542.5, 541.5,\n",
            "           540.5, 539.5, 538.5, 537.5, 536.5, 535.5, 534.5, 533.5, 532.5,\n",
            "           531.5, 530.5, 529.5, 528.5, 527.5, 526.5, 525.5, 524.5, 523.5,\n",
            "           522.5, 521.5, 520.5, 519.5, 518.5, 517.5, 516.5, 515.5, 514.5,\n",
            "           513.5, 512.5, 511.5, 510.5, 509.5, 508.5, 507.5, 506.5, 505.5,\n",
            "           504.5, 503.5, 502.5, 501.5, 500.5, 499.5, 498.5, 497.5, 496.5,\n",
            "           495.5, 494.5, 493.5, 492.5, 491.5, 490.5, 489.5, 488.5, 487.5,\n",
            "           486.5, 485.5, 484.5, 483.5, 482.5, 481.5, 480.5, 479.5, 478.5,\n",
            "           477.5, 476.5, 475.5, 474.5, 473.5, 472.5, 471.5, 470.5, 469.5,\n",
            "           468.5, 467.5, 466.5, 465.5, 464.5, 463.5, 462.5, 461.5, 460.5,\n",
            "           459.5, 458.5, 457.5, 456.5, 455.5, 454.5, 453.5, 452.5, 451.5,\n",
            "           450.5, 449.5, 448.5, 447.5, 446.5, 445.5, 444.5, 443.5, 442.5,\n",
            "           441.5, 440.5, 439.5, 438.5, 437.5, 436.5, 435.5, 434.5, 433.5,\n",
            "           432.5, 431.5, 430.5, 429.5, 428.5, 427.5, 426.5, 425.5, 424.5,\n",
            "           423.5, 422.5, 421.5, 420.5, 419.5, 418.5, 417.5, 416.5, 415.5,\n",
            "           414.5, 413.5, 412.5, 411.5, 410.5, 409.5, 408.5, 407.5, 406.5,\n",
            "           405.5, 404.5, 403.5, 402.5, 401.5, 400.5, 399.5, 398.5, 397.5,\n",
            "           396.5, 395.5, 394.5, 393.5, 392.5, 391.5, 390.5, 389.5, 388.5,\n",
            "           387.5, 386.5, 385.5, 384.5, 383.5, 382.5, 381.5, 380.5, 379.5,\n",
            "           378.5, 377.5, 376.5, 375.5, 374.5, 373.5, 372.5, 371.5, 370.5,\n",
            "           369.5, 368.5, 367.5, 366.5, 365.5, 364.5, 363.5, 362.5, 361.5,\n",
            "           360.5, 359.5, 358.5, 357.5, 356.5, 355.5, 354.5, 353.5, 352.5,\n",
            "           351.5, 350.5, 349.5, 348.5, 347.5, 346.5, 345.5, 344.5, 343.5,\n",
            "           342.5, 341.5, 340.5, 339.5, 338.5, 337.5, 336.5, 335.5, 334.5,\n",
            "           333.5, 332.5, 331.5, 330.5, 329.5, 328.5, 327.5, 326.5, 325.5,\n",
            "           324.5, 323.5, 322.5, 321.5, 320.5, 319.5, 318.5, 317.5, 316.5,\n",
            "           315.5, 314.5, 313.5, 312.5, 311.5, 310.5, 309.5, 308.5, 307.5,\n",
            "           306.5, 305.5, 304.5, 303.5, 302.5, 301.5, 300.5, 299.5, 298.5,\n",
            "           297.5, 296.5, 295.5, 294.5, 293.5, 292.5, 291.5, 290.5, 289.5,\n",
            "           288.5, 287.5, 286.5, 285.5, 284.5, 283.5, 282.5, 281.5, 280.5,\n",
            "           279.5, 278.5, 277.5, 276.5, 275.5, 274.5, 273.5, 272.5, 271.5,\n",
            "           270.5, 269.5, 268.5, 267.5, 266.5, 265.5, 264.5, 263.5, 262.5,\n",
            "           261.5, 260.5, 259.5, 258.5, 257.5, 256.5, 255.5, 254.5, 253.5,\n",
            "           252.5, 251.5, 250.5, 249.5, 248.5, 247.5, 246.5, 245.5, 244.5,\n",
            "           243.5, 242.5, 241.5, 240.5, 239.5, 238.5, 237.5, 236.5, 235.5,\n",
            "           234.5, 233.5, 232.5, 231.5, 230.5, 229.5, 228.5, 227.5, 226.5,\n",
            "           225.5, 224.5, 223.5, 222.5, 221.5, 220.5, 219.5, 218.5, 217.5,\n",
            "           216.5, 215.5, 214.5, 213.5, 212.5, 211.5, 210.5, 209.5, 208.5,\n",
            "           207.5, 206.5, 205.5, 204.5, 203.5, 202.5, 201.5, 200.5, 199.5,\n",
            "           198.5, 197.5, 196.5, 195.5, 194.5, 193.5, 192.5, 191.5, 190.5,\n",
            "           189.5, 188.5, 187.5, 186.5, 185.5, 184.5, 183.5, 182.5, 181.5,\n",
            "           180.5, 179.5, 178.5, 177.5, 176.5, 175.5, 174.5, 173.5, 172.5,\n",
            "           171.5, 170.5, 169.5, 168.5, 167.5, 166.5, 165.5, 164.5, 163.5,\n",
            "           162.5, 161.5, 160.5, 159.5, 158.5, 157.5, 156.5, 155.5, 154.5,\n",
            "           153.5, 152.5, 151.5, 150.5, 149.5, 148.5, 147.5, 146.5, 145.5,\n",
            "           144.5, 143.5, 142.5, 141.5, 140.5, 139.5, 138.5, 137.5, 136.5,\n",
            "           135.5, 134.5, 133.5, 132.5, 131.5, 130.5, 129.5, 128.5, 127.5,\n",
            "           126.5, 125.5, 124.5, 123.5, 122.5, 121.5, 120.5, 119.5, 118.5,\n",
            "           117.5, 116.5, 115.5, 114.5, 113.5, 112.5, 111.5, 110.5, 109.5,\n",
            "           108.5, 107.5, 106.5, 105.5, 104.5, 103.5, 102.5, 101.5, 100.5,\n",
            "            99.5,  98.5,  97.5,  96.5,  95.5,  94.5,  93.5,  92.5,  91.5,\n",
            "            90.5,  89.5,  88.5,  87.5,  86.5,  85.5,  84.5,  83.5,  82.5,\n",
            "            81.5,  80.5,  79.5,  78.5,  77.5,  76.5,  75.5,  74.5,  73.5,\n",
            "            72.5,  71.5,  70.5,  69.5,  68.5,  67.5,  66.5,  65.5,  64.5,\n",
            "            63.5,  62.5,  61.5,  60.5,  59.5,  58.5,  57.5,  56.5,  55.5,\n",
            "            54.5,  53.5,  52.5,  51.5,  50.5,  49.5,  48.5,  47.5,  46.5,\n",
            "            45.5,  44.5,  43.5,  42.5,  41.5,  40.5,  39.5,  38.5,  37.5,\n",
            "            36.5,  35.5,  34.5,  33.5,  32.5,  31.5,  30.5,  29.5,  28.5,\n",
            "            27.5,  26.5,  25.5,  24.5,  23.5,  22.5,  21.5,  20.5,  19.5,\n",
            "            18.5,  17.5,  16.5,  15.5,  14.5,  13.5,  12.5,  11.5] AU>]\n"
          ]
        }
      ],
      "execution_count": 8,
      "metadata": {
        "collapsed": true,
        "jupyter": {
          "source_hidden": false,
          "outputs_hidden": false
        },
        "nteract": {
          "transient": {
            "deleting": false
          }
        },
        "execution": {
          "iopub.status.busy": "2021-06-11T16:01:22.892Z",
          "iopub.execute_input": "2021-06-11T16:01:22.900Z",
          "iopub.status.idle": "2021-06-11T16:01:22.917Z",
          "shell.execute_reply": "2021-06-11T16:01:23.018Z"
        }
      }
    },
    {
      "cell_type": "code",
      "source": [
        "plt.plot(dist_streamer_list[0].value,deltat_list[0].value)"
      ],
      "outputs": [
        {
          "output_type": "execute_result",
          "execution_count": 42,
          "data": {
            "text/plain": "[<matplotlib.lines.Line2D at 0x7f8cd16b8fa0>]"
          },
          "metadata": {}
        },
        {
          "output_type": "display_data",
          "data": {
            "text/plain": "<Figure size 432x288 with 1 Axes>",
            "image/png": "[encoded data removed]"
          },
          "metadata": {
            "needs_background": "light"
          }
        }
      ],
      "execution_count": 42,
      "metadata": {
        "collapsed": true,
        "jupyter": {
          "source_hidden": false,
          "outputs_hidden": false
        },
        "nteract": {
          "transient": {
            "deleting": false
          }
        },
        "execution": {
          "iopub.status.busy": "2021-06-14T12:58:24.486Z",
          "iopub.execute_input": "2021-06-14T12:58:24.497Z",
          "iopub.status.idle": "2021-06-14T12:58:24.538Z",
          "shell.execute_reply": "2021-06-14T12:58:24.552Z"
        }
      }
    },
    {
      "cell_type": "code",
      "source": [
        "omega_list_JEP = SL.stream_line(dist_streamer_list[0], mass=Mstar, r0=r0, theta0=theta0, omega=omega0list[0], v_r0=v_r0, tol=1e-9)\n",
        "plt.plot(dist_streamer_list[0], omega_list_JEP)"
      ],
      "outputs": [
        {
          "output_type": "error",
          "ename": "NameError",
          "evalue": "name 'dist_streamer_list' is not defined",
          "traceback": [
            "\u001b[0;31m---------------------------------------------------------------------------\u001b[0m",
            "\u001b[0;31mNameError\u001b[0m                                 Traceback (most recent call last)",
            "\u001b[0;32m<ipython-input-3-80f24b916dec>\u001b[0m in \u001b[0;36m<module>\u001b[0;34m\u001b[0m\n\u001b[0;32m----> 1\u001b[0;31m \u001b[0momega_list_JEP\u001b[0m \u001b[0;34m=\u001b[0m \u001b[0mSL\u001b[0m\u001b[0;34m.\u001b[0m\u001b[0mstream_line\u001b[0m\u001b[0;34m(\u001b[0m\u001b[0mdist_streamer_list\u001b[0m\u001b[0;34m[\u001b[0m\u001b[0;36m0\u001b[0m\u001b[0;34m]\u001b[0m\u001b[0;34m,\u001b[0m \u001b[0mmass\u001b[0m\u001b[0;34m=\u001b[0m\u001b[0mMstar\u001b[0m\u001b[0;34m,\u001b[0m \u001b[0mr0\u001b[0m\u001b[0;34m=\u001b[0m\u001b[0mr0\u001b[0m\u001b[0;34m,\u001b[0m \u001b[0mtheta0\u001b[0m\u001b[0;34m=\u001b[0m\u001b[0mtheta0\u001b[0m\u001b[0;34m,\u001b[0m \u001b[0momega\u001b[0m\u001b[0;34m=\u001b[0m\u001b[0momega0list\u001b[0m\u001b[0;34m[\u001b[0m\u001b[0;36m0\u001b[0m\u001b[0;34m]\u001b[0m\u001b[0;34m,\u001b[0m \u001b[0mv_r0\u001b[0m\u001b[0;34m=\u001b[0m\u001b[0mv_r0\u001b[0m\u001b[0;34m,\u001b[0m \u001b[0mtol\u001b[0m\u001b[0;34m=\u001b[0m\u001b[0;36m1e-9\u001b[0m\u001b[0;34m)\u001b[0m\u001b[0;34m\u001b[0m\u001b[0;34m\u001b[0m\u001b[0m\n\u001b[0m\u001b[1;32m      2\u001b[0m \u001b[0mplt\u001b[0m\u001b[0;34m.\u001b[0m\u001b[0mplot\u001b[0m\u001b[0;34m(\u001b[0m\u001b[0mdist_streamer_list\u001b[0m\u001b[0;34m[\u001b[0m\u001b[0;36m0\u001b[0m\u001b[0;34m]\u001b[0m\u001b[0;34m,\u001b[0m \u001b[0momega_list_JEP\u001b[0m\u001b[0;34m)\u001b[0m\u001b[0;34m\u001b[0m\u001b[0;34m\u001b[0m\u001b[0m\n",
            "\u001b[0;31mNameError\u001b[0m: name 'dist_streamer_list' is not defined"
          ]
        }
      ],
      "execution_count": 3,
      "metadata": {
        "collapsed": true,
        "jupyter": {
          "source_hidden": false,
          "outputs_hidden": false
        },
        "nteract": {
          "transient": {
            "deleting": false
          }
        },
        "execution": {
          "iopub.status.busy": "2021-06-14T14:04:32.486Z",
          "iopub.execute_input": "2021-06-14T14:04:32.496Z",
          "iopub.status.idle": "2021-06-14T13:06:16.209Z",
          "shell.execute_reply": "2021-06-14T13:06:16.224Z"
        }
      }
    },
    {
      "cell_type": "code",
      "source": [
        "# model parameters\n",
        "M_s = 1.71*u.Msun # was 2.9\n",
        "M_env = 0.39*u.Msun # upper limit\n",
        "M_disk = 0.58*u.Msun\n",
        "Mstar = (M_s+M_env+M_disk)\n",
        "# Disk inclination system\n",
        "inc = 0. * u.deg\n",
        "PA_ang = 0. *u.deg\n",
        "\n",
        "theta0 = 70 * u.deg  # rotate clockwise\n",
        "phi0 = 0. * u.deg  # rotate the plane\n",
        "v_r0 = 0.0 * u.km/u.s\n",
        "r0 = 1000*u.au\n",
        "omega0 = 1e-14/u.s\n",
        "\n",
        "small_r_dist = (1000 - 1 * np.arange(30)) * u.au\n",
        "theta_list_JEP = SL.stream_line(small_r_dist, mass=Mstar, r0=r0, theta0=theta0, omega=omega0, v_r0=v_r0)\n",
        "vr_JEP, vthera_JEP, vphi_JEP = SL.stream_line_vel(small_r_dist, theta_list_JEP, mass=Mstar, r0=r0, theta0=theta0, omega=omega0, v_r0=v_r0)\n",
        "\n",
        "rc = SL.r_cent(Mstar,omega=omega0, r0=r0)"
      ],
      "outputs": [
        {
          "output_type": "stream",
          "name": "stdout",
          "text": [
            "rc=0.0009413037917019157 AU\n"
          ]
        }
      ],
      "execution_count": 29,
      "metadata": {
        "collapsed": true,
        "jupyter": {
          "source_hidden": false,
          "outputs_hidden": false
        },
        "nteract": {
          "transient": {
            "deleting": false
          }
        },
        "execution": {
          "iopub.status.busy": "2021-06-14T14:20:11.652Z",
          "iopub.execute_input": "2021-06-14T14:20:11.663Z",
          "iopub.status.idle": "2021-06-14T14:20:11.682Z",
          "shell.execute_reply": "2021-06-14T14:20:11.694Z"
        }
      }
    },
    {
      "cell_type": "code",
      "source": [
        "print(theta_list_JEP)"
      ],
      "outputs": [
        {
          "output_type": "stream",
          "name": "stdout",
          "text": [
            "[1.22173048 1.22173048 1.22173048 1.22173048 1.22173048 1.22173048\n",
            " 1.22173048 1.22173048 1.22173048 1.22173048 1.22173048 1.22173048\n",
            " 1.22173048 1.22173048 1.22173048 1.22173048 1.22173048 1.22173048\n",
            " 1.22173048 1.22173048 1.22173048 1.22173048 1.22173048 1.22173048\n",
            " 1.22173048 1.22173048 1.22173048 1.22173048 1.22173048 1.22173048] rad\n"
          ]
        }
      ],
      "execution_count": 19,
      "metadata": {
        "collapsed": true,
        "jupyter": {
          "source_hidden": false,
          "outputs_hidden": false
        },
        "nteract": {
          "transient": {
            "deleting": false
          }
        },
        "execution": {
          "iopub.status.busy": "2021-06-14T14:18:39.042Z",
          "iopub.execute_input": "2021-06-14T14:18:39.052Z",
          "iopub.status.idle": "2021-06-14T14:18:39.072Z",
          "shell.execute_reply": "2021-06-14T14:18:39.082Z"
        }
      }
    },
    {
      "cell_type": "code",
      "source": [
        "plt.plot(small_r_dist, vthera_JEP, label='vtheta')\n",
        "plt.plot(small_r_dist, vphi_JEP, label='vphi')\n",
        "# plt.plot(small_r_dist, vr_JEP, label='vr')\n",
        "plt.legend()\n"
      ],
      "outputs": [
        {
          "output_type": "execute_result",
          "execution_count": 30,
          "data": {
            "text/plain": "<matplotlib.legend.Legend at 0x7ff82926c5e0>"
          },
          "metadata": {}
        },
        {
          "output_type": "display_data",
          "data": {
            "text/plain": "<Figure size 432x288 with 1 Axes>",
            "image/png": "[encoded data removed]"
          },
          "metadata": {
            "needs_background": "light"
          }
        }
      ],
      "execution_count": 30,
      "metadata": {
        "collapsed": true,
        "jupyter": {
          "source_hidden": false,
          "outputs_hidden": false
        },
        "nteract": {
          "transient": {
            "deleting": false
          }
        },
        "execution": {
          "iopub.status.busy": "2021-06-14T14:20:14.285Z",
          "iopub.execute_input": "2021-06-14T14:20:14.294Z",
          "iopub.status.idle": "2021-06-14T14:20:15.668Z",
          "shell.execute_reply": "2021-06-14T14:20:15.683Z"
        }
      }
    },
    {
      "cell_type": "code",
      "source": [
        "print('v_r',vr_JEP[0:3])\n",
        "# print(SL.v_k(rc, Mstar))\n",
        "# np.cos(theta_list_JEP)/np.cos(70 *u.deg)\n",
        "mu = (rc / r0).decompose()\n",
        "nu = (0.*u.km/u.s * np.sqrt(rc / (G * Mstar))).decompose()\n",
        "epsilon = nu**2 + mu**2 * np.sin(theta0)**2 - 2 * mu\n",
        "ecc = np.sqrt(1 + epsilon*np.sin(theta0)**2)\n",
        "orb_ang = np.arccos((1 - mu * np.sin(theta0)**2) / ecc)\n",
        "cos_ratio = np.cos(theta_list_JEP) / np.cos(theta0)\n",
        "xi = np.arccos(cos_ratio) + orb_ang.to(u.rad)#.value\n",
        "print('cosratio', cos_ratio[0:3])\n",
        "# print(np.arccos(cos_ratio[0:3]))\n",
        "print('epsilon',epsilon)\n",
        "print('eccentricity',ecc)\n",
        "r_to_rc = small_r_dist/rc\n",
        "v_r_all = -ecc * np.sin(theta0) * np.sin(xi) / r_to_rc /(1 - ecc*np.cos(xi))\n",
        "v_r_all_pre_factor = -ecc * np.sin(theta0)\n",
        "print(v_r_all[0:3])\n",
        "print(v_r_all_pre_factor)\n",
        "print((np.sin(xi)/ (1 - ecc*np.cos(xi)))[0:3])\n",
        "print((np.sin(xi))[0:3])\n",
        "print(np.arccos(cos_ratio), orb_ang)\n",
        "print(theta_list_JEP)"
      ],
      "outputs": [
        {
          "output_type": "stream",
          "name": "stdout",
          "text": [
            "v_r [-0.1      -0.100001 -0.100002] km / s\n",
            "cosratio [1. 1. 1.]\n",
            "epsilon -1.8826068009994947e-06\n",
            "eccentricity 0.9999991688078347\n",
            "[-0. -0. -0.]\n",
            "-0.9396918397207641\n",
            "[0. 0. 0.]\n",
            "[0. 0. 0.]\n",
            "[0. 0. 0. 0. 0. 0. 0. 0. 0. 0. 0. 0. 0. 0. 0. 0. 0. 0. 0. 0. 0. 0. 0. 0.\n",
            " 0. 0. 0. 0. 0. 0.] rad 0.0 rad\n",
            "[1.22173048 1.22173048 1.22173048 1.22173048 1.22173048 1.22173048\n",
            " 1.22173048 1.22173048 1.22173048 1.22173048 1.22173048 1.22173048\n",
            " 1.22173048 1.22173048 1.22173048 1.22173048 1.22173048 1.22173048\n",
            " 1.22173048 1.22173048 1.22173048 1.22173048 1.22173048 1.22173048\n",
            " 1.22173048 1.22173048 1.22173048 1.22173048 1.22173048 1.22173048] rad\n"
          ]
        }
      ],
      "execution_count": 12,
      "metadata": {
        "collapsed": true,
        "jupyter": {
          "source_hidden": false,
          "outputs_hidden": false
        },
        "nteract": {
          "transient": {
            "deleting": false
          }
        },
        "execution": {
          "iopub.status.busy": "2021-06-14T14:12:01.324Z",
          "iopub.execute_input": "2021-06-14T14:12:01.335Z",
          "iopub.status.idle": "2021-06-14T14:12:01.354Z",
          "shell.execute_reply": "2021-06-14T14:12:01.369Z"
        }
      }
    },
    {
      "cell_type": "code",
      "source": [
        "# does the model maintain angular momentum?\n",
        "\n"
      ],
      "outputs": [
        {
          "output_type": "execute_result",
          "execution_count": 30,
          "data": {
            "text/plain": "1.1920929e-07"
          },
          "metadata": {}
        }
      ],
      "execution_count": 30,
      "metadata": {
        "collapsed": true,
        "jupyter": {
          "source_hidden": false,
          "outputs_hidden": false
        },
        "nteract": {
          "transient": {
            "deleting": false
          }
        },
        "execution": {
          "iopub.status.busy": "2021-06-12T12:37:42.166Z",
          "iopub.execute_input": "2021-06-12T12:37:42.177Z",
          "iopub.status.idle": "2021-06-12T12:37:42.195Z",
          "shell.execute_reply": "2021-06-12T12:37:42.203Z"
        }
      }
    },
    {
      "cell_type": "code",
      "source": [
        "plt.plot(dist_streamer_list[0], vel_streamer_list[0])"
      ],
      "outputs": [
        {
          "output_type": "execute_result",
          "execution_count": 47,
          "data": {
            "text/plain": "[<matplotlib.lines.Line2D at 0x7f8cc0a935b0>]"
          },
          "metadata": {}
        },
        {
          "output_type": "display_data",
          "data": {
            "text/plain": "<Figure size 432x288 with 1 Axes>",
            "image/png": "[encoded data removed]"
          },
          "metadata": {
            "needs_background": "light"
          }
        }
      ],
      "execution_count": 47,
      "metadata": {
        "collapsed": true,
        "jupyter": {
          "source_hidden": false,
          "outputs_hidden": false
        },
        "nteract": {
          "transient": {
            "deleting": false
          }
        },
        "execution": {
          "iopub.status.busy": "2021-06-14T12:59:59.861Z",
          "iopub.execute_input": "2021-06-14T12:59:59.871Z",
          "iopub.status.idle": "2021-06-14T12:59:59.899Z",
          "shell.execute_reply": "2021-06-14T12:59:59.910Z"
        }
      }
    }
  ],
  "metadata": {
    "kernel_info": {
      "name": "python3"
    },
    "language_info": {
      "name": "python",
      "version": "3.8.5",
      "mimetype": "text/x-python",
      "codemirror_mode": {
        "name": "ipython",
        "version": 3
      },
      "pygments_lexer": "ipython3",
      "nbconvert_exporter": "python",
      "file_extension": ".py"
    },
    "kernelspec": {
      "argv": [
        "/Users/mvaldivi/anaconda3/bin/python",
        "-m",
        "ipykernel_launcher",
        "-f",
        "{connection_file}"
      ],
      "display_name": "Python 3",
      "language": "python",
      "name": "python3"
    },
    "nteract": {
      "version": "0.28.0"
    }
  },
  "nbformat": 4,
  "nbformat_minor": 0
}