{
  "cells": [
    {
      "cell_type": "code",
      "source": [
        "import numpy as np\n",
        "from astropy.io import fits\n",
        "from astropy.wcs import WCS\n",
        "import astropy.units as u\n",
        "from spectral_cube import SpectralCube\n",
        "import matplotlib.pyplot as plt\n",
        "import regions\n",
        "\n",
        "import sys\n",
        "sys.path.append('../')\n",
        "from NOEMAsetup import *"
      ],
      "outputs": [],
      "execution_count": 1,
      "metadata": {
        "collapsed": true,
        "jupyter": {
          "source_hidden": false,
          "outputs_hidden": false
        },
        "nteract": {
          "transient": {
            "deleting": false
          }
        },
        "execution": {
          "iopub.status.busy": "2021-06-02T13:52:33.782Z",
          "iopub.execute_input": "2021-06-02T13:52:33.794Z",
          "iopub.status.idle": "2021-06-02T13:52:36.256Z",
          "shell.execute_reply": "2021-06-02T13:52:36.262Z"
        }
      }
    },
    {
      "cell_type": "markdown",
      "source": [
        "### C18O to H2CO fitted cube wcs"
      ],
      "metadata": {
        "nteract": {
          "transient": {
            "deleting": false
          }
        }
      }
    },
    {
      "cell_type": "markdown",
      "source": [
        "The cell below masks the C18O cube to sum up only where there is H2CO emission. We discussed and this is not the correct approach"
      ],
      "metadata": {
        "nteract": {
          "transient": {
            "deleting": false
          }
        }
      }
    },
    {
      "cell_type": "code",
      "source": [
        "filenameH2CO = '../H2CO/CDconfigsmall/Per-emb-50_CD_l021l060_uvsub_H2CO_multi_small_fitcube'\n",
        "filenameC18O = '../' + C18O_2_1\n",
        "\n",
        "cubeH2CO = SpectralCube.read(filenameH2CO+'.fits').with_spectral_unit(u.km/u.s)\n",
        "cubeC18O = SpectralCube.read(filenameC18O+'.fits').with_spectral_unit(u.km/u.s)\n",
        "spectral_grid_objective = cubeH2CO.spectral_axis\n",
        "# spectral reprojection\n",
        "cubeC18O = cubeC18O.spectral_interpolate(spectral_grid_objective)\n",
        "# spatial reprojection\n",
        "cubeC18O = cubeC18O.reproject(cubeH2CO.header) #beam is still there\n",
        "cubeC18O.write(filenameC18O+'_reprojectH2COs.fits')\n",
        "\n",
        "# Now leave out all that is not streamer\n",
        "\n",
        "# mask the cube where there is emission\n",
        "masked_cube = cubeC18O.with_mask(cubeH2CO > snratio* rms)\n",
        "region_streamer = '../data/region_streamer_l.reg'\n",
        "regio = regions.read_ds9(region_streamer)\n",
        "streamer_cube = masked_cube.subcube_from_regions(regio)\n",
        "streamer_cube.write(filenameC18O+'_H2COmasked_'+str(snratio)+'sigma.fits')\n"
      ],
      "outputs": [],
      "execution_count": null,
      "metadata": {
        "collapsed": true,
        "jupyter": {
          "source_hidden": false,
          "outputs_hidden": false
        },
        "nteract": {
          "transient": {
            "deleting": false
          }
        }
      }
    },
    {
      "cell_type": "markdown",
      "source": [
        "Testing that the conversions went well..."
      ],
      "metadata": {
        "nteract": {
          "transient": {
            "deleting": false
          }
        }
      }
    },
    {
      "cell_type": "code",
      "source": [
        "fitcube_region = 'analysis/H2CO_fitregion.reg'\n",
        "\n",
        "cubeH2COfile = 'H2CO/CDconfig/Per-emb-50_CD_l021l060_uvsub_H2CO_multi'\n",
        "cubeH2CO_sfile = 'H2CO/CDconfigsmall/Per-emb-50_CD_l021l060_uvsub_H2CO_multi_small'\n",
        "cubeH2CO_ffile = 'H2CO/CDconfigsmall/Per-emb-50_CD_l021l060_uvsub_H2CO_multi_small_fitcube'\n",
        "\n",
        "cubeH2CO = SpectralCube.read(cubeH2COfile+'.fits')\n",
        "cubeH2CO_s = SpectralCube.read(cubeH2CO_sfile+'.fits')\n",
        "cubeH2CO_f = SpectralCube.read(cubeH2CO_ffile+'.fits')"
      ],
      "outputs": [],
      "execution_count": 2,
      "metadata": {
        "collapsed": true,
        "jupyter": {
          "source_hidden": false,
          "outputs_hidden": false
        },
        "nteract": {
          "transient": {
            "deleting": false
          }
        },
        "execution": {
          "iopub.status.busy": "2021-04-30T15:40:40.165Z",
          "iopub.execute_input": "2021-04-30T15:40:40.169Z",
          "iopub.status.idle": "2021-04-30T15:40:40.456Z",
          "shell.execute_reply": "2021-04-30T15:40:40.462Z"
        }
      }
    },
    {
      "cell_type": "code",
      "source": [
        "spectra_regions_file = 'H2CO/CDconfig/spectra_regs_test.reg'\n",
        "spectra_regions = regions.read_ds9(spectra_regions_file)\n",
        "specreg = spectra_regions[0]\n",
        "spectra_subcube = cubeH2CO.subcube_from_regions([specreg])\n",
        "spectrum = spectra_subcube.mean(axis=(1, 2))\n",
        "  "
      ],
      "outputs": [
        {
          "output_type": "stream",
          "name": "stderr",
          "text": [
            "WARNING: PossiblySlowWarning: This function (<function BaseSpectralCube.mean at 0x7ff2b140e700>) requires loading the entire cube into memory and may therefore be slow. [spectral_cube.utils]\n"
          ]
        }
      ],
      "execution_count": 26,
      "metadata": {
        "collapsed": true,
        "jupyter": {
          "source_hidden": false,
          "outputs_hidden": false
        },
        "nteract": {
          "transient": {
            "deleting": false
          }
        },
        "execution": {
          "iopub.status.busy": "2021-04-30T14:59:55.684Z",
          "iopub.execute_input": "2021-04-30T14:59:55.717Z",
          "iopub.status.idle": "2021-04-30T14:59:55.741Z",
          "shell.execute_reply": "2021-04-30T14:59:55.750Z"
        }
      }
    },
    {
      "cell_type": "code",
      "source": [
        "spectra_regions_file = 'H2CO/CDconfig/spectra_regs_test.reg'\n",
        "spectra_regions = regions.read_ds9(spectra_regions_file)\n",
        "\n",
        "fig, axs = plt.subplots(4, 1, figsize = (4,10))\n",
        "for specreg, ax, i in zip(spectra_regions, axs, range(len(spectra_regions))):\n",
        "  spectra_subcube = cubeH2CO.subcube_from_regions([specreg]).with_spectral_unit(u.km/u.s)\n",
        "  velocity = spectra_subcube.spectral_axis\n",
        "  spectrum = (spectra_subcube.to(u.K)).mean(axis=(1, 2))\n",
        "  spectrum = spectrum.to(u.K)\n",
        "  ax.plot(velocity, spectrum, 'r', drawstyle='steps-mid', label='H2CO original')\n",
        "  \n",
        "  spectra_subcube2 = cubeH2CO_s.subcube_from_regions([specreg]).with_spectral_unit(u.km/u.s)\n",
        "  velocity2 = spectra_subcube2.spectral_axis\n",
        "  spectrum2 = (spectra_subcube2.to(u.K)).mean(axis=(1, 2))\n",
        "  spectrum2 = spectrum2.to(u.K)\n",
        "  ax.plot(velocity2, spectrum2, 'b', drawstyle='steps-mid', label='H2CO small')\n",
        "  \n",
        "  spectra_subcube3 = cubeH2CO_f.subcube_from_regions([specreg]).with_spectral_unit(u.km/u.s)\n",
        "  velocity3 = spectra_subcube3.spectral_axis\n",
        "  spectrum3 = (spectra_subcube3.to(u.K)).mean(axis=(1, 2))\n",
        "  spectrum3 = spectrum3.to(u.K)\n",
        "  ax.plot(velocity3, spectrum3, 'g', drawstyle='steps-mid', label='H2CO fitcuve')\n",
        "  ax.legend()\n",
        "  \n",
        "  ax.annotate(\"Region {}\".format(i+1), (0.6, 0.8), xycoords='axes fraction')\n",
        "fig.savefig('H2CO_spectral_cube_check.png')"
      ],
      "outputs": [
        {
          "output_type": "stream",
          "name": "stderr",
          "text": [
            "WARNING: PossiblySlowWarning: This function (<function BaseSpectralCube.to at 0x7fc4fa6b48b0>) requires loading the entire cube into memory and may therefore be slow. [spectral_cube.utils]\n",
            "WARNING: PossiblySlowWarning: This function (<function BaseSpectralCube.mean at 0x7fc4fa6ae700>) requires loading the entire cube into memory and may therefore be slow. [spectral_cube.utils]\n",
            "WARNING: SliceWarning: Slice (slice(None, None, None), None) cannot be used on this 1-dimensional array's WCS.  If this is intentional, you  should use this <class 'spectral_cube.lower_dimensional_structures.OneDSpectrum'>'s ``array``  or ``quantity`` attribute. [spectral_cube.lower_dimensional_structures]\n",
            "WARNING: PossiblySlowWarning: This function (<function BaseSpectralCube.to at 0x7fc4fa6b48b0>) requires loading the entire cube into memory and may therefore be slow. [spectral_cube.utils]\n",
            "WARNING: PossiblySlowWarning: This function (<function BaseSpectralCube.mean at 0x7fc4fa6ae700>) requires loading the entire cube into memory and may therefore be slow. [spectral_cube.utils]\n",
            "WARNING: SliceWarning: Slice (slice(None, None, None), None) cannot be used on this 1-dimensional array's WCS.  If this is intentional, you  should use this <class 'spectral_cube.lower_dimensional_structures.OneDSpectrum'>'s ``array``  or ``quantity`` attribute. [spectral_cube.lower_dimensional_structures]\n",
            "WARNING: PossiblySlowWarning: This function (<function BaseSpectralCube.to at 0x7fc4fa6b48b0>) requires loading the entire cube into memory and may therefore be slow. [spectral_cube.utils]\n",
            "WARNING: PossiblySlowWarning: This function (<function BaseSpectralCube.mean at 0x7fc4fa6ae700>) requires loading the entire cube into memory and may therefore be slow. [spectral_cube.utils]\n",
            "WARNING: SliceWarning: Slice (slice(None, None, None), None) cannot be used on this 1-dimensional array's WCS.  If this is intentional, you  should use this <class 'spectral_cube.lower_dimensional_structures.OneDSpectrum'>'s ``array``  or ``quantity`` attribute. [spectral_cube.lower_dimensional_structures]\n",
            "WARNING: PossiblySlowWarning: This function (<function BaseSpectralCube.to at 0x7fc4fa6b48b0>) requires loading the entire cube into memory and may therefore be slow. [spectral_cube.utils]\n",
            "WARNING: PossiblySlowWarning: This function (<function BaseSpectralCube.mean at 0x7fc4fa6ae700>) requires loading the entire cube into memory and may therefore be slow. [spectral_cube.utils]\n",
            "WARNING: SliceWarning: Slice (slice(None, None, None), None) cannot be used on this 1-dimensional array's WCS.  If this is intentional, you  should use this <class 'spectral_cube.lower_dimensional_structures.OneDSpectrum'>'s ``array``  or ``quantity`` attribute. [spectral_cube.lower_dimensional_structures]\n",
            "WARNING: PossiblySlowWarning: This function (<function BaseSpectralCube.to at 0x7fc4fa6b48b0>) requires loading the entire cube into memory and may therefore be slow. [spectral_cube.utils]\n",
            "WARNING: PossiblySlowWarning: This function (<function BaseSpectralCube.mean at 0x7fc4fa6ae700>) requires loading the entire cube into memory and may therefore be slow. [spectral_cube.utils]\n",
            "WARNING: SliceWarning: Slice (slice(None, None, None), None) cannot be used on this 1-dimensional array's WCS.  If this is intentional, you  should use this <class 'spectral_cube.lower_dimensional_structures.OneDSpectrum'>'s ``array``  or ``quantity`` attribute. [spectral_cube.lower_dimensional_structures]\n",
            "WARNING: PossiblySlowWarning: This function (<function BaseSpectralCube.to at 0x7fc4fa6b48b0>) requires loading the entire cube into memory and may therefore be slow. [spectral_cube.utils]\n",
            "WARNING: PossiblySlowWarning: This function (<function BaseSpectralCube.mean at 0x7fc4fa6ae700>) requires loading the entire cube into memory and may therefore be slow. [spectral_cube.utils]\n",
            "WARNING: SliceWarning: Slice (slice(None, None, None), None) cannot be used on this 1-dimensional array's WCS.  If this is intentional, you  should use this <class 'spectral_cube.lower_dimensional_structures.OneDSpectrum'>'s ``array``  or ``quantity`` attribute. [spectral_cube.lower_dimensional_structures]\n",
            "WARNING: PossiblySlowWarning: This function (<function BaseSpectralCube.to at 0x7fc4fa6b48b0>) requires loading the entire cube into memory and may therefore be slow. [spectral_cube.utils]\n",
            "WARNING: PossiblySlowWarning: This function (<function BaseSpectralCube.mean at 0x7fc4fa6ae700>) requires loading the entire cube into memory and may therefore be slow. [spectral_cube.utils]\n",
            "WARNING: SliceWarning: Slice (slice(None, None, None), None) cannot be used on this 1-dimensional array's WCS.  If this is intentional, you  should use this <class 'spectral_cube.lower_dimensional_structures.OneDSpectrum'>'s ``array``  or ``quantity`` attribute. [spectral_cube.lower_dimensional_structures]\n",
            "WARNING: PossiblySlowWarning: This function (<function BaseSpectralCube.to at 0x7fc4fa6b48b0>) requires loading the entire cube into memory and may therefore be slow. [spectral_cube.utils]\n",
            "WARNING: PossiblySlowWarning: This function (<function BaseSpectralCube.mean at 0x7fc4fa6ae700>) requires loading the entire cube into memory and may therefore be slow. [spectral_cube.utils]\n",
            "WARNING: SliceWarning: Slice (slice(None, None, None), None) cannot be used on this 1-dimensional array's WCS.  If this is intentional, you  should use this <class 'spectral_cube.lower_dimensional_structures.OneDSpectrum'>'s ``array``  or ``quantity`` attribute. [spectral_cube.lower_dimensional_structures]\n",
            "WARNING: PossiblySlowWarning: This function (<function BaseSpectralCube.to at 0x7fc4fa6b48b0>) requires loading the entire cube into memory and may therefore be slow. [spectral_cube.utils]\n",
            "WARNING: PossiblySlowWarning: This function (<function BaseSpectralCube.mean at 0x7fc4fa6ae700>) requires loading the entire cube into memory and may therefore be slow. [spectral_cube.utils]\n",
            "WARNING: SliceWarning: Slice (slice(None, None, None), None) cannot be used on this 1-dimensional array's WCS.  If this is intentional, you  should use this <class 'spectral_cube.lower_dimensional_structures.OneDSpectrum'>'s ``array``  or ``quantity`` attribute. [spectral_cube.lower_dimensional_structures]\n",
            "WARNING: PossiblySlowWarning: This function (<function BaseSpectralCube.to at 0x7fc4fa6b48b0>) requires loading the entire cube into memory and may therefore be slow. [spectral_cube.utils]\n",
            "WARNING: PossiblySlowWarning: This function (<function BaseSpectralCube.mean at 0x7fc4fa6ae700>) requires loading the entire cube into memory and may therefore be slow. [spectral_cube.utils]\n",
            "WARNING: SliceWarning: Slice (slice(None, None, None), None) cannot be used on this 1-dimensional array's WCS.  If this is intentional, you  should use this <class 'spectral_cube.lower_dimensional_structures.OneDSpectrum'>'s ``array``  or ``quantity`` attribute. [spectral_cube.lower_dimensional_structures]\n",
            "WARNING: PossiblySlowWarning: This function (<function BaseSpectralCube.to at 0x7fc4fa6b48b0>) requires loading the entire cube into memory and may therefore be slow. [spectral_cube.utils]\n",
            "WARNING: PossiblySlowWarning: This function (<function BaseSpectralCube.mean at 0x7fc4fa6ae700>) requires loading the entire cube into memory and may therefore be slow. [spectral_cube.utils]\n",
            "WARNING: SliceWarning: Slice (slice(None, None, None), None) cannot be used on this 1-dimensional array's WCS.  If this is intentional, you  should use this <class 'spectral_cube.lower_dimensional_structures.OneDSpectrum'>'s ``array``  or ``quantity`` attribute. [spectral_cube.lower_dimensional_structures]\n",
            "WARNING: PossiblySlowWarning: This function (<function BaseSpectralCube.to at 0x7fc4fa6b48b0>) requires loading the entire cube into memory and may therefore be slow. [spectral_cube.utils]\n",
            "WARNING: PossiblySlowWarning: This function (<function BaseSpectralCube.mean at 0x7fc4fa6ae700>) requires loading the entire cube into memory and may therefore be slow. [spectral_cube.utils]\n",
            "WARNING: SliceWarning: Slice (slice(None, None, None), None) cannot be used on this 1-dimensional array's WCS.  If this is intentional, you  should use this <class 'spectral_cube.lower_dimensional_structures.OneDSpectrum'>'s ``array``  or ``quantity`` attribute. [spectral_cube.lower_dimensional_structures]\n"
          ]
        },
        {
          "output_type": "display_data",
          "data": {
            "text/plain": "<Figure size 288x720 with 4 Axes>",
            "image/png": "[encoded data removed]"
          },
          "metadata": {
            "needs_background": "light"
          }
        }
      ],
      "execution_count": 3,
      "metadata": {
        "collapsed": true,
        "jupyter": {
          "source_hidden": false,
          "outputs_hidden": false
        },
        "nteract": {
          "transient": {
            "deleting": false
          }
        },
        "execution": {
          "iopub.status.busy": "2021-04-30T15:40:51.362Z",
          "iopub.execute_input": "2021-04-30T15:40:51.367Z",
          "iopub.status.idle": "2021-04-30T15:40:56.263Z",
          "shell.execute_reply": "2021-04-30T15:40:56.277Z"
        }
      }
    },
    {
      "cell_type": "code",
      "source": [
        "cubeC18Ofile = 'C18O/CDconfig/JEP/JEP_mask_multi_Per-emb-50_CD_l025l064_uvsub_C18O'\n",
        "cubeC18O_ffile = 'C18O/CDconfig/JEP/JEP_mask_multi_Per-emb-50_CD_l025l064_uvsub_C18O_reprojectH2COs'\n",
        "cubeC18O_stfile = 'C18O/CDconfig/JEP/JEP_mask_multi_Per-emb-50_CD_l025l064_uvsub_C18O_H2COmasked_1sigma_2'\n",
        "cubeC18O = SpectralCube.read(cubeC18Ofile+'.fits')\n",
        "cubeC18O_f = SpectralCube.read(cubeC18O_ffile+'.fits')\n",
        "cubeC18O_st = SpectralCube.read(cubeC18O_stfile+'.fits')\n"
      ],
      "outputs": [],
      "execution_count": 13,
      "metadata": {
        "collapsed": true,
        "jupyter": {
          "source_hidden": false,
          "outputs_hidden": false
        },
        "nteract": {
          "transient": {
            "deleting": false
          }
        },
        "execution": {
          "iopub.status.busy": "2021-04-30T15:50:09.731Z",
          "iopub.execute_input": "2021-04-30T15:50:09.743Z",
          "iopub.status.idle": "2021-04-30T15:50:10.006Z",
          "shell.execute_reply": "2021-04-30T15:50:10.011Z"
        }
      }
    },
    {
      "cell_type": "code",
      "source": [
        "fig, axs = plt.subplots(4, 1, figsize = (4,10))\n",
        "for specreg, ax, i in zip(spectra_regions, axs, range(len(spectra_regions))):\n",
        "  spectra_subcube = cubeC18O.subcube_from_regions([specreg]).with_spectral_unit(u.km/u.s)\n",
        "  velocity = spectra_subcube.spectral_axis\n",
        "  spectrum = (spectra_subcube.to(u.K)).mean(axis=(1, 2))\n",
        "  spectrum = spectrum.to(u.K)\n",
        "  ax.plot(velocity, spectrum, 'r', drawstyle='steps-mid', label='C18O original')\n",
        " \n",
        " \n",
        "  spectra_subcube3 = cubeC18O_f.subcube_from_regions([specreg]).with_spectral_unit(u.km/u.s)\n",
        "  velocity3 = spectra_subcube3.spectral_axis\n",
        "  spectrum3 = (spectra_subcube3.to(u.K)).mean(axis=(1, 2))\n",
        "  spectrum3 = spectrum3\n",
        "  ax.plot(velocity3, spectrum3, 'g', drawstyle='steps-mid', label='C18O reprojected')\n",
        "  \n",
        "  if i==1:\n",
        "    print(\"skip\")\n",
        "  else:\n",
        "    spectra_subcube2 = cubeC18O_st.subcube_from_regions([specreg]).with_spectral_unit(u.km/u.s)\n",
        "    velocity2 = spectra_subcube2.spectral_axis\n",
        "    spectrum2 = (spectra_subcube2.to(u.K)).mean(axis=(1, 2))\n",
        "    ax.plot(velocity2, spectrum2, 'b', drawstyle='steps-mid', label='C18O streamer')\n",
        "  ax.legend(fontsize=8)\n",
        "  \n",
        "  ax.annotate(\"Region {}\".format(i+1), (0.6, 0.8), xycoords='axes fraction')\n",
        "# fig.savefig('C18O_spectral_cube_reprojection_check1.png')"
      ],
      "outputs": [
        {
          "output_type": "stream",
          "name": "stderr",
          "text": [
            "WARNING: PossiblySlowWarning: This function (<function BaseSpectralCube.to at 0x7fc4fa6b48b0>) requires loading the entire cube into memory and may therefore be slow. [spectral_cube.utils]\n",
            "WARNING: PossiblySlowWarning: This function (<function BaseSpectralCube.mean at 0x7fc4fa6ae700>) requires loading the entire cube into memory and may therefore be slow. [spectral_cube.utils]\n",
            "WARNING: SliceWarning: Slice (slice(None, None, None), None) cannot be used on this 1-dimensional array's WCS.  If this is intentional, you  should use this <class 'spectral_cube.lower_dimensional_structures.OneDSpectrum'>'s ``array``  or ``quantity`` attribute. [spectral_cube.lower_dimensional_structures]\n",
            "WARNING: PossiblySlowWarning: This function (<function BaseSpectralCube.to at 0x7fc4fa6b48b0>) requires loading the entire cube into memory and may therefore be slow. [spectral_cube.utils]\n",
            "WARNING: PossiblySlowWarning: This function (<function BaseSpectralCube.mean at 0x7fc4fa6ae700>) requires loading the entire cube into memory and may therefore be slow. [spectral_cube.utils]\n",
            "WARNING: SliceWarning: Slice (slice(None, None, None), None) cannot be used on this 1-dimensional array's WCS.  If this is intentional, you  should use this <class 'spectral_cube.lower_dimensional_structures.OneDSpectrum'>'s ``array``  or ``quantity`` attribute. [spectral_cube.lower_dimensional_structures]\n",
            "WARNING: PossiblySlowWarning: This function (<function BaseSpectralCube.to at 0x7fc4fa6b48b0>) requires loading the entire cube into memory and may therefore be slow. [spectral_cube.utils]\n",
            "WARNING: PossiblySlowWarning: This function (<function BaseSpectralCube.mean at 0x7fc4fa6ae700>) requires loading the entire cube into memory and may therefore be slow. [spectral_cube.utils]\n",
            "/Users/mvaldivi/anaconda3/lib/python3.8/site-packages/spectral_cube/spectral_cube.py:440: RuntimeWarning: Mean of empty slice\n",
            "  out = function(self._get_filled_data(fill=fill,\n",
            "WARNING: SliceWarning: Slice (slice(None, None, None), None) cannot be used on this 1-dimensional array's WCS.  If this is intentional, you  should use this <class 'spectral_cube.lower_dimensional_structures.OneDSpectrum'>'s ``array``  or ``quantity`` attribute. [spectral_cube.lower_dimensional_structures]\n",
            "WARNING: PossiblySlowWarning: This function (<function BaseSpectralCube.to at 0x7fc4fa6b48b0>) requires loading the entire cube into memory and may therefore be slow. [spectral_cube.utils]\n",
            "WARNING: PossiblySlowWarning: This function (<function BaseSpectralCube.mean at 0x7fc4fa6ae700>) requires loading the entire cube into memory and may therefore be slow. [spectral_cube.utils]\n",
            "WARNING: SliceWarning: Slice (slice(None, None, None), None) cannot be used on this 1-dimensional array's WCS.  If this is intentional, you  should use this <class 'spectral_cube.lower_dimensional_structures.OneDSpectrum'>'s ``array``  or ``quantity`` attribute. [spectral_cube.lower_dimensional_structures]\n",
            "WARNING: PossiblySlowWarning: This function (<function BaseSpectralCube.to at 0x7fc4fa6b48b0>) requires loading the entire cube into memory and may therefore be slow. [spectral_cube.utils]\n",
            "WARNING: PossiblySlowWarning: This function (<function BaseSpectralCube.mean at 0x7fc4fa6ae700>) requires loading the entire cube into memory and may therefore be slow. [spectral_cube.utils]\n",
            "WARNING: SliceWarning: Slice (slice(None, None, None), None) cannot be used on this 1-dimensional array's WCS.  If this is intentional, you  should use this <class 'spectral_cube.lower_dimensional_structures.OneDSpectrum'>'s ``array``  or ``quantity`` attribute. [spectral_cube.lower_dimensional_structures]\n",
            "WARNING: PossiblySlowWarning: This function (<function BaseSpectralCube.to at 0x7fc4fa6b48b0>) requires loading the entire cube into memory and may therefore be slow. [spectral_cube.utils]\n",
            "WARNING: PossiblySlowWarning: This function (<function BaseSpectralCube.mean at 0x7fc4fa6ae700>) requires loading the entire cube into memory and may therefore be slow. [spectral_cube.utils]\n",
            "WARNING: SliceWarning: Slice (slice(None, None, None), None) cannot be used on this 1-dimensional array's WCS.  If this is intentional, you  should use this <class 'spectral_cube.lower_dimensional_structures.OneDSpectrum'>'s ``array``  or ``quantity`` attribute. [spectral_cube.lower_dimensional_structures]\n",
            "WARNING: PossiblySlowWarning: This function (<function BaseSpectralCube.to at 0x7fc4fa6b48b0>) requires loading the entire cube into memory and may therefore be slow. [spectral_cube.utils]\n",
            "WARNING: PossiblySlowWarning: This function (<function BaseSpectralCube.mean at 0x7fc4fa6ae700>) requires loading the entire cube into memory and may therefore be slow. [spectral_cube.utils]\n",
            "WARNING: SliceWarning: Slice (slice(None, None, None), None) cannot be used on this 1-dimensional array's WCS.  If this is intentional, you  should use this <class 'spectral_cube.lower_dimensional_structures.OneDSpectrum'>'s ``array``  or ``quantity`` attribute. [spectral_cube.lower_dimensional_structures]\n",
            "WARNING: PossiblySlowWarning: This function (<function BaseSpectralCube.to at 0x7fc4fa6b48b0>) requires loading the entire cube into memory and may therefore be slow. [spectral_cube.utils]\n",
            "WARNING: PossiblySlowWarning: This function (<function BaseSpectralCube.mean at 0x7fc4fa6ae700>) requires loading the entire cube into memory and may therefore be slow. [spectral_cube.utils]\n",
            "/Users/mvaldivi/anaconda3/lib/python3.8/site-packages/spectral_cube/spectral_cube.py:440: RuntimeWarning: Mean of empty slice\n",
            "  out = function(self._get_filled_data(fill=fill,\n",
            "WARNING: SliceWarning: Slice (slice(None, None, None), None) cannot be used on this 1-dimensional array's WCS.  If this is intentional, you  should use this <class 'spectral_cube.lower_dimensional_structures.OneDSpectrum'>'s ``array``  or ``quantity`` attribute. [spectral_cube.lower_dimensional_structures]\n",
            "WARNING: PossiblySlowWarning: This function (<function BaseSpectralCube.to at 0x7fc4fa6b48b0>) requires loading the entire cube into memory and may therefore be slow. [spectral_cube.utils]\n",
            "WARNING: PossiblySlowWarning: This function (<function BaseSpectralCube.mean at 0x7fc4fa6ae700>) requires loading the entire cube into memory and may therefore be slow. [spectral_cube.utils]\n",
            "WARNING: SliceWarning: Slice (slice(None, None, None), None) cannot be used on this 1-dimensional array's WCS.  If this is intentional, you  should use this <class 'spectral_cube.lower_dimensional_structures.OneDSpectrum'>'s ``array``  or ``quantity`` attribute. [spectral_cube.lower_dimensional_structures]\n",
            "WARNING: PossiblySlowWarning: This function (<function BaseSpectralCube.to at 0x7fc4fa6b48b0>) requires loading the entire cube into memory and may therefore be slow. [spectral_cube.utils]\n",
            "WARNING: PossiblySlowWarning: This function (<function BaseSpectralCube.mean at 0x7fc4fa6ae700>) requires loading the entire cube into memory and may therefore be slow. [spectral_cube.utils]\n",
            "WARNING: SliceWarning: Slice (slice(None, None, None), None) cannot be used on this 1-dimensional array's WCS.  If this is intentional, you  should use this <class 'spectral_cube.lower_dimensional_structures.OneDSpectrum'>'s ``array``  or ``quantity`` attribute. [spectral_cube.lower_dimensional_structures]\n",
            "WARNING: PossiblySlowWarning: This function (<function BaseSpectralCube.to at 0x7fc4fa6b48b0>) requires loading the entire cube into memory and may therefore be slow. [spectral_cube.utils]\n",
            "WARNING: PossiblySlowWarning: This function (<function BaseSpectralCube.mean at 0x7fc4fa6ae700>) requires loading the entire cube into memory and may therefore be slow. [spectral_cube.utils]\n",
            "/Users/mvaldivi/anaconda3/lib/python3.8/site-packages/spectral_cube/spectral_cube.py:440: RuntimeWarning: Mean of empty slice\n",
            "  out = function(self._get_filled_data(fill=fill,\n",
            "WARNING: SliceWarning: Slice (slice(None, None, None), None) cannot be used on this 1-dimensional array's WCS.  If this is intentional, you  should use this <class 'spectral_cube.lower_dimensional_structures.OneDSpectrum'>'s ``array``  or ``quantity`` attribute. [spectral_cube.lower_dimensional_structures]\n"
          ]
        },
        {
          "output_type": "stream",
          "name": "stdout",
          "text": [
            "skip\n"
          ]
        },
        {
          "output_type": "display_data",
          "data": {
            "text/plain": "<Figure size 288x720 with 4 Axes>",
            "image/png": "[encoded data removed]"
          },
          "metadata": {
            "needs_background": "light"
          }
        }
      ],
      "execution_count": 14,
      "metadata": {
        "collapsed": true,
        "jupyter": {
          "source_hidden": false,
          "outputs_hidden": false
        },
        "nteract": {
          "transient": {
            "deleting": false
          }
        },
        "execution": {
          "iopub.status.busy": "2021-04-30T15:50:13.470Z",
          "iopub.execute_input": "2021-04-30T15:50:13.475Z",
          "iopub.status.idle": "2021-04-30T15:50:15.111Z",
          "shell.execute_reply": "2021-04-30T15:50:15.118Z"
        }
      }
    },
    {
      "cell_type": "markdown",
      "source": [
        "As this was not the correct approach (but at least in terms of unit conversions everything is in order), we decide to test \n",
        "\n",
        "First check that the C18O emission in the streamer have more or less the same shape\n",
        "\n",
        "For this, we use the original H2Co and C18O cubes (no pbcor)"
      ],
      "metadata": {
        "nteract": {
          "transient": {
            "deleting": false
          }
        }
      }
    },
    {
      "cell_type": "code",
      "source": [
        "fig, axs = plt.subplots(4, 1, figsize = (4,10))\n",
        "for specreg, ax, i in zip(spectra_regions, axs, range(len(spectra_regions))):\n",
        "  spectra_subcube = cubeC18O.subcube_from_regions([specreg]).with_spectral_unit(u.km/u.s)\n",
        "  velocity = spectra_subcube.spectral_axis\n",
        "  spectrum = (spectra_subcube.to(u.K)).mean(axis=(1, 2))\n",
        "  spectrum = spectrum.to(u.K)\n",
        "  ax.plot(velocity, spectrum, 'r', drawstyle='steps-mid', label='C18O original')\n",
        "  \n",
        "  spectra_subcube2 = cubeH2CO.subcube_from_regions([specreg]).with_spectral_unit(u.km/u.s)\n",
        "  velocity2 = spectra_subcube2.spectral_axis\n",
        "  spectrum2 = (spectra_subcube2.to(u.K)).mean(axis=(1, 2))\n",
        "  ax.plot(velocity2, spectrum2, 'b', drawstyle='steps-mid', label='H2CO original')\n",
        "  \n",
        "  if i==0:\n",
        "    ax.legend(fontsize=8)\n",
        "    ax.set_ylabel('Brightness Temperature (K)')\n",
        "  ax.annotate(\"Region {}\".format(i+1), (0.2, 0.8), xycoords='axes fraction')\n",
        "    \n",
        "  if i==3:\n",
        "    ax.set_xlabel('Velocity (km/s)')\n",
        "    \n",
        "# fig.savefig('Comparison_H2CO_C18O.pdf', dpi=300, bbox_inches='tight')"
      ],
      "outputs": [
        {
          "output_type": "stream",
          "name": "stderr",
          "text": [
            "WARNING: PossiblySlowWarning: This function (<function BaseSpectralCube.to at 0x7fc4fa6b48b0>) requires loading the entire cube into memory and may therefore be slow. [spectral_cube.utils]\n",
            "WARNING: PossiblySlowWarning: This function (<function BaseSpectralCube.mean at 0x7fc4fa6ae700>) requires loading the entire cube into memory and may therefore be slow. [spectral_cube.utils]\n",
            "WARNING: SliceWarning: Slice (slice(None, None, None), None) cannot be used on this 1-dimensional array's WCS.  If this is intentional, you  should use this <class 'spectral_cube.lower_dimensional_structures.OneDSpectrum'>'s ``array``  or ``quantity`` attribute. [spectral_cube.lower_dimensional_structures]\n",
            "WARNING: PossiblySlowWarning: This function (<function BaseSpectralCube.to at 0x7fc4fa6b48b0>) requires loading the entire cube into memory and may therefore be slow. [spectral_cube.utils]\n",
            "WARNING: PossiblySlowWarning: This function (<function BaseSpectralCube.mean at 0x7fc4fa6ae700>) requires loading the entire cube into memory and may therefore be slow. [spectral_cube.utils]\n",
            "WARNING: SliceWarning: Slice (slice(None, None, None), None) cannot be used on this 1-dimensional array's WCS.  If this is intentional, you  should use this <class 'spectral_cube.lower_dimensional_structures.OneDSpectrum'>'s ``array``  or ``quantity`` attribute. [spectral_cube.lower_dimensional_structures]\n",
            "WARNING: PossiblySlowWarning: This function (<function BaseSpectralCube.to at 0x7fc4fa6b48b0>) requires loading the entire cube into memory and may therefore be slow. [spectral_cube.utils]\n",
            "WARNING: PossiblySlowWarning: This function (<function BaseSpectralCube.mean at 0x7fc4fa6ae700>) requires loading the entire cube into memory and may therefore be slow. [spectral_cube.utils]\n",
            "WARNING: SliceWarning: Slice (slice(None, None, None), None) cannot be used on this 1-dimensional array's WCS.  If this is intentional, you  should use this <class 'spectral_cube.lower_dimensional_structures.OneDSpectrum'>'s ``array``  or ``quantity`` attribute. [spectral_cube.lower_dimensional_structures]\n",
            "WARNING: PossiblySlowWarning: This function (<function BaseSpectralCube.to at 0x7fc4fa6b48b0>) requires loading the entire cube into memory and may therefore be slow. [spectral_cube.utils]\n",
            "WARNING: PossiblySlowWarning: This function (<function BaseSpectralCube.mean at 0x7fc4fa6ae700>) requires loading the entire cube into memory and may therefore be slow. [spectral_cube.utils]\n",
            "WARNING: SliceWarning: Slice (slice(None, None, None), None) cannot be used on this 1-dimensional array's WCS.  If this is intentional, you  should use this <class 'spectral_cube.lower_dimensional_structures.OneDSpectrum'>'s ``array``  or ``quantity`` attribute. [spectral_cube.lower_dimensional_structures]\n",
            "WARNING: PossiblySlowWarning: This function (<function BaseSpectralCube.to at 0x7fc4fa6b48b0>) requires loading the entire cube into memory and may therefore be slow. [spectral_cube.utils]\n",
            "WARNING: PossiblySlowWarning: This function (<function BaseSpectralCube.mean at 0x7fc4fa6ae700>) requires loading the entire cube into memory and may therefore be slow. [spectral_cube.utils]\n",
            "WARNING: SliceWarning: Slice (slice(None, None, None), None) cannot be used on this 1-dimensional array's WCS.  If this is intentional, you  should use this <class 'spectral_cube.lower_dimensional_structures.OneDSpectrum'>'s ``array``  or ``quantity`` attribute. [spectral_cube.lower_dimensional_structures]\n",
            "WARNING: PossiblySlowWarning: This function (<function BaseSpectralCube.to at 0x7fc4fa6b48b0>) requires loading the entire cube into memory and may therefore be slow. [spectral_cube.utils]\n",
            "WARNING: PossiblySlowWarning: This function (<function BaseSpectralCube.mean at 0x7fc4fa6ae700>) requires loading the entire cube into memory and may therefore be slow. [spectral_cube.utils]\n",
            "WARNING: SliceWarning: Slice (slice(None, None, None), None) cannot be used on this 1-dimensional array's WCS.  If this is intentional, you  should use this <class 'spectral_cube.lower_dimensional_structures.OneDSpectrum'>'s ``array``  or ``quantity`` attribute. [spectral_cube.lower_dimensional_structures]\n",
            "WARNING: PossiblySlowWarning: This function (<function BaseSpectralCube.to at 0x7fc4fa6b48b0>) requires loading the entire cube into memory and may therefore be slow. [spectral_cube.utils]\n",
            "WARNING: PossiblySlowWarning: This function (<function BaseSpectralCube.mean at 0x7fc4fa6ae700>) requires loading the entire cube into memory and may therefore be slow. [spectral_cube.utils]\n",
            "WARNING: SliceWarning: Slice (slice(None, None, None), None) cannot be used on this 1-dimensional array's WCS.  If this is intentional, you  should use this <class 'spectral_cube.lower_dimensional_structures.OneDSpectrum'>'s ``array``  or ``quantity`` attribute. [spectral_cube.lower_dimensional_structures]\n",
            "WARNING: PossiblySlowWarning: This function (<function BaseSpectralCube.to at 0x7fc4fa6b48b0>) requires loading the entire cube into memory and may therefore be slow. [spectral_cube.utils]\n",
            "WARNING: PossiblySlowWarning: This function (<function BaseSpectralCube.mean at 0x7fc4fa6ae700>) requires loading the entire cube into memory and may therefore be slow. [spectral_cube.utils]\n",
            "WARNING: SliceWarning: Slice (slice(None, None, None), None) cannot be used on this 1-dimensional array's WCS.  If this is intentional, you  should use this <class 'spectral_cube.lower_dimensional_structures.OneDSpectrum'>'s ``array``  or ``quantity`` attribute. [spectral_cube.lower_dimensional_structures]\n"
          ]
        },
        {
          "output_type": "display_data",
          "data": {
            "text/plain": "<Figure size 288x720 with 4 Axes>",
            "image/png": "[encoded data removed]"
          },
          "metadata": {
            "needs_background": "light"
          }
        }
      ],
      "execution_count": 24,
      "metadata": {
        "collapsed": true,
        "jupyter": {
          "source_hidden": false,
          "outputs_hidden": false
        },
        "nteract": {
          "transient": {
            "deleting": false
          }
        },
        "execution": {
          "iopub.status.busy": "2021-04-30T16:02:57.179Z",
          "iopub.execute_input": "2021-04-30T16:02:57.184Z",
          "iopub.status.idle": "2021-04-30T16:02:59.611Z",
          "shell.execute_reply": "2021-04-30T16:02:59.627Z"
        }
      }
    },
    {
      "cell_type": "markdown",
      "source": [
        "Now, we reproject the C18O to the H2CO velocity grid (from the original cubes, the spatial grid is the same) and integrate the cube"
      ],
      "metadata": {
        "nteract": {
          "transient": {
            "deleting": false
          }
        }
      }
    },
    {
      "cell_type": "code",
      "source": [
        "filenameH2CO = 'H2CO/CDconfigsmall/Per-emb-50_CD_l021l060_uvsub_H2CO_multi_small'\n",
        "filenameC18O = C18O_2_1 + '_pbcor'\n",
        "\n",
        "cubeH2CO = SpectralCube.read(filenameH2CO+'.fits').with_spectral_unit(u.km/u.s)\n",
        "cubeC18O = SpectralCube.read(filenameC18O+'.fits').with_spectral_unit(u.km/u.s)\n",
        "spectral_grid_objective = cubeH2CO.spectral_axis\n",
        "# spectral reprojection\n",
        "cubeC18O = cubeC18O.spectral_interpolate(spectral_grid_objective)\n",
        "# spatial reprojection\n",
        "# cubeC18O = cubeC18O.reproject(cubeH2CO.header) # not necessary\n",
        "cubeC18O.write(filenameC18O+'_reprojectH2COs.fits')\n"
      ],
      "outputs": [],
      "execution_count": 6,
      "metadata": {
        "collapsed": true,
        "jupyter": {
          "source_hidden": false,
          "outputs_hidden": false
        },
        "nteract": {
          "transient": {
            "deleting": false
          }
        },
        "execution": {
          "iopub.status.busy": "2021-05-03T08:21:33.380Z",
          "iopub.execute_input": "2021-05-03T08:21:33.387Z",
          "iopub.status.idle": "2021-05-03T08:21:47.500Z",
          "shell.execute_reply": "2021-05-03T08:21:47.507Z"
        }
      }
    },
    {
      "cell_type": "code",
      "source": [
        "velinit = 5.5 * u.km/u.s\n",
        "velend = 9.5 * u.km/u.s\n",
        "region_streamer = 'data/region_streamer_l_kink.reg'\n",
        "cubeC18O_ffile = 'C18O/CDconfig/JEP/JEP_mask_multi_Per-emb-50_CD_l025l064_uvsub_C18O_pbcor_reprojectH2COs'\n",
        "\n",
        "# load the region and the cube between velinit and velend\n",
        "regio = regions.read_ds9(region_streamer)\n",
        "cube = SpectralCube.read(cubeC18O_ffile+'.fits').with_spectral_unit(u.km/u.s).spectral_slab(velinit, velend).to(u.K)\n",
        "rms = 0.347 * u.K\n",
        "\n",
        "# do a subcube using the region\n",
        "subcube = cube.subcube_from_regions(regio)\n",
        "# do the moment\n",
        "mom0 = subcube.moment(order=0)\n",
        "header = mom0.header\n",
        "mom0.write(cubeC18O_ffile+'_mom0_l_kink.fits')\n",
        "\n"
      ],
      "outputs": [
        {
          "output_type": "stream",
          "name": "stderr",
          "text": [
            "WARNING: PossiblySlowWarning: This function (<function BaseSpectralCube.to at 0x7fdb28d738b0>) requires loading the entire cube into memory and may therefore be slow. [spectral_cube.utils]\n"
          ]
        }
      ],
      "execution_count": 8,
      "metadata": {
        "collapsed": true,
        "jupyter": {
          "source_hidden": false,
          "outputs_hidden": false
        },
        "nteract": {
          "transient": {
            "deleting": false
          }
        },
        "execution": {
          "iopub.status.busy": "2021-05-03T08:39:02.478Z",
          "iopub.execute_input": "2021-05-03T08:39:02.487Z",
          "iopub.status.idle": "2021-05-03T08:39:02.701Z",
          "shell.execute_reply": "2021-05-03T08:39:02.717Z"
        }
      }
    },
    {
      "cell_type": "code",
      "source": [
        "velinit = 5.5 * u.km/u.s\n",
        "velend = 9.5 * u.km/u.s\n",
        "region_streamer = 'data/region_streamer_l_kink.reg'\n",
        "cubeC18O_ffile = 'C18O/CDconfig/JEP/JEP_mask_multi_Per-emb-50_CD_l025l064_uvsub_C18O_pbcor_reprojectH2COs'\n",
        "regio = regions.read_ds9(region_streamer)\n",
        "cube = SpectralCube.read(cubeC18O_ffile+'.fits').with_spectral_unit(u.km/u.s).spectral_slab(velinit, velend)\n",
        "# cube = cube.subcube_from_regions(regio)\n",
        "\n",
        "# cube.hdu.writeto(cubeC18O_ffile+'_l_kink.fits')\n",
        "\n",
        "mom0 = cube.moment(order=0)\n",
        "mom0.write(cubeC18O_ffile+'_mom0_test.fits')"
      ],
      "outputs": [],
      "execution_count": 15,
      "metadata": {
        "collapsed": true,
        "jupyter": {
          "source_hidden": false,
          "outputs_hidden": false
        },
        "nteract": {
          "transient": {
            "deleting": false
          }
        },
        "execution": {
          "iopub.status.busy": "2021-05-11T13:57:53.906Z",
          "iopub.execute_input": "2021-05-11T13:57:53.912Z",
          "iopub.status.idle": "2021-05-11T13:57:54.204Z",
          "shell.execute_reply": "2021-05-11T13:57:54.211Z"
        }
      }
    },
    {
      "cell_type": "code",
      "source": [
        "velinit = 5.5 * u.km/u.s\n",
        "velend = 9.5 * u.km/u.s\n",
        "cubeC18O_ffile = 'C18O/CDconfig/JEP/JEP_mask_multi_Per-emb-50_CD_l025l064_uvsub_C18O_pbcor_reprojectH2COs'\n",
        "\n",
        "# load the region and the cube between velinit and velend\n",
        "regio = regions.read_ds9(region_streamer)\n",
        "cube = SpectralCube.read(cubeC18O_ffile+'.fits').with_spectral_unit(u.km/u.s).spectral_slab(velinit, velend).to(u.K)\n",
        "\n",
        "header = cube.header\n",
        "beammaj = header['bmaj']*u.deg\n",
        "beammin = header['bmin']*u.deg\n",
        "fwhm_to_sigma = 1. / (8 * np.log(2))**0.5\n",
        "omega_B = 1.133* beammaj * beammin\n",
        "freq = header['restfrq'] * u.Hz\n",
        "\n",
        "rms = (13.94*u.mJy/u.beam).to(u.K, u.brightness_temperature(freq, beam_area=omega_B))  \n",
        "nchan = np.size(cube.spectral_axis)\n",
        "rmsmom0 = rms * np.sqrt(nchan) * u.km/u.s\n",
        "print(rms)\n",
        "print(rmsmom0)"
      ],
      "outputs": [
        {
          "output_type": "stream",
          "name": "stdout",
          "text": [
            "0.4032378595129648 K\n",
            "2.7937138408471047 K km / s\n"
          ]
        },
        {
          "output_type": "stream",
          "name": "stderr",
          "text": [
            "WARNING: PossiblySlowWarning: This function (<function BaseSpectralCube.to at 0x7f96e0afe940>) requires loading the entire cube into memory and may therefore be slow. [spectral_cube.utils]\n"
          ]
        }
      ],
      "execution_count": 6,
      "metadata": {
        "collapsed": true,
        "jupyter": {
          "source_hidden": false,
          "outputs_hidden": false
        },
        "nteract": {
          "transient": {
            "deleting": false
          }
        },
        "execution": {
          "iopub.status.busy": "2021-06-02T14:10:11.910Z",
          "iopub.execute_input": "2021-06-02T14:10:11.916Z",
          "iopub.status.idle": "2021-06-02T14:10:12.080Z",
          "shell.execute_reply": "2021-06-02T14:10:12.096Z"
        }
      }
    }
  ],
  "metadata": {
    "kernel_info": {
      "name": "python3"
    },
    "language_info": {
      "name": "python",
      "version": "3.8.5",
      "mimetype": "text/x-python",
      "codemirror_mode": {
        "name": "ipython",
        "version": 3
      },
      "pygments_lexer": "ipython3",
      "nbconvert_exporter": "python",
      "file_extension": ".py"
    },
    "kernelspec": {
      "argv": [
        "/Users/mvaldivi/anaconda3/bin/python",
        "-m",
        "ipykernel_launcher",
        "-f",
        "{connection_file}"
      ],
      "display_name": "Python 3",
      "language": "python",
      "name": "python3"
    },
    "nteract": {
      "version": "0.28.0"
    }
  },
  "nbformat": 4,
  "nbformat_minor": 0
}